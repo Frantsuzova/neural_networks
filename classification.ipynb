{
 "cells": [
  {
   "cell_type": "code",
   "execution_count": 1,
   "metadata": {},
   "outputs": [],
   "source": [
    "import torch\n",
    "import random\n",
    "import numpy as np\n",
    "import sklearn.datasets\n",
    "from sklearn.model_selection import train_test_split\n",
    "import matplotlib.pyplot as plt"
   ]
  },
  {
   "cell_type": "markdown",
   "metadata": {},
   "source": [
    "# Воспроизводимость эксперимента"
   ]
  },
  {
   "cell_type": "markdown",
   "metadata": {},
   "source": [
    "random seed - номер последовательности случайных чисел, которую выдаст нам случайный генератор"
   ]
  },
  {
   "cell_type": "code",
   "execution_count": 2,
   "metadata": {},
   "outputs": [],
   "source": [
    "#  зафиксируем все случайные генераторы\n",
    "#  ноль означает, что мы всегда используем нулевую последовательность при вызове генератора\n",
    "random.seed(0)\n",
    "np.random.seed(0)\n",
    "torch.manual_seed(0)\n",
    "torch.cuda.manual_seed(0)\n",
    "torch.backends.cudnn.deterministic = True"
   ]
  },
  {
   "cell_type": "markdown",
   "metadata": {},
   "source": [
    "# Задача классификации"
   ]
  },
  {
   "cell_type": "code",
   "execution_count": 3,
   "metadata": {},
   "outputs": [
    {
     "data": {
      "text/plain": [
       "(178, 13)"
      ]
     },
     "execution_count": 3,
     "metadata": {},
     "output_type": "execute_result"
    }
   ],
   "source": [
    "# позырим винишко: 178 вин, 13 параметров у каждой\n",
    "wine = sklearn.datasets.load_wine()\n",
    "wine.data.shape"
   ]
  },
  {
   "cell_type": "code",
   "execution_count": 4,
   "metadata": {},
   "outputs": [],
   "source": [
    "X_train, X_test, y_train, y_test = train_test_split(\n",
    "    wine.data[:, :2], # используем всего 2 колонки\n",
    "    wine.target, \n",
    "    test_size=0.3, \n",
    "    shuffle=True)\n",
    "\n",
    "# оборачиваем в тензоры:\n",
    "# дробные числа - в float тензор, если числа не дробные - в long тензор. \n",
    "X_train = torch.FloatTensor(X_train)\n",
    "X_test = torch.FloatTensor(X_test)\n",
    "y_train = torch.LongTensor(y_train)\n",
    "y_test = torch.LongTensor(y_test)"
   ]
  },
  {
   "cell_type": "code",
   "execution_count": 5,
   "metadata": {},
   "outputs": [],
   "source": [
    "class WineNet(torch.nn.Module):    #  отнаследуемся от torch.nn.Module\n",
    "    def __init__(self, n_hidden_neurons):  #  принимаем на вход количество скрытых нейронов\n",
    "        \n",
    "        super(WineNet, self).__init__()\n",
    "        # попробуем 3 слоя, 2 из которых скрытые\n",
    "        self.fc1 = torch.nn.Linear(2, n_hidden_neurons)  #  fully connected слой - из двух входов (у нас две колонки для каждой бутылки вина)\n",
    "                                                         #  на выходе N скрытых нейронов\n",
    "        self.activ1 = torch.nn.Sigmoid()   #  активация: сигмоида\n",
    "        self.fc2 = torch.nn.Linear(n_hidden_neurons, n_hidden_neurons) #  скрытый слой, который из N нейронов, \n",
    "                                                                       #  превращает их тоже в N нейронов\n",
    "        self.activ2 = torch.nn.Sigmoid()   #  активация: сигмоида\n",
    "        self.fc3 = torch.nn.Linear(n_hidden_neurons, 3)  #   fully connected слой, который выдаёт три нейрона, \n",
    "                                                         #   каждый нейрон будет отвечать за свой класс.\n",
    "        self.sm = torch.nn.Softmax(dim=1)  #  на выходе этих трёх нейронов будут некоторые числа, \n",
    "                                           #  которые после этого мы передадим в софтмакс, и получим вероятности классов.\n",
    "        \n",
    "    def forward(self, x): #  реализуем граф нашей нейронной сети\n",
    "        x = self.fc1(x)   #  передаём двухмерный тензор с двумя колоннами в первый fully connected слой\n",
    "        x = self.activ1(x) #  в первую активацию\n",
    "        x = self.fc2(x)   #  во второй fully connected слой\n",
    "        x = self.activ2(x) #  во вторую активацию\n",
    "        x = self.fc3(x)  #  в третий fully connected слой, у которого три выхода.\n",
    "        return x\n",
    "\n",
    "    #  для подсчета вероятностей\n",
    "    def inference(self, x):\n",
    "        x = self.forward(x)  #  вызывает forward\n",
    "        x = self.sm(x)  #  подсчет софтмакс\n",
    "        return x\n",
    "    \n",
    "wine_net = WineNet(5)  # скрытых нейронов 5"
   ]
  },
  {
   "cell_type": "code",
   "execution_count": 6,
   "metadata": {},
   "outputs": [],
   "source": [
    "#  инициализация функции потерь\n",
    "loss = torch.nn.CrossEntropyLoss()\n",
    "\n",
    "#  оптимайзер\n",
    "optimizer = torch.optim.Adam(wine_net.parameters(), lr=1.0e-3) # передаём все параметры нейронной сети"
   ]
  },
  {
   "cell_type": "markdown",
   "metadata": {},
   "source": [
    "Обучение в реальной жизни происходит по частям данных. Они называются батчи (batch). <br>\n",
    "<li> мы должны отрезать некоторый кусочек наших данных, посчитать по нему loss, посчитать по нему градиентный шаг, сделать градиентный шаг,\n",
    "<li> затем взять следующий кусочек, и так далее.\n",
    "    \n",
    "<br>Одна эпоха, то есть итерация просмотра всего датасета, у нас бьётся на много маленьких частей."
   ]
  },
  {
   "cell_type": "code",
   "execution_count": 8,
   "metadata": {},
   "outputs": [
    {
     "data": {
      "text/plain": [
       "array([2, 3, 1, 4, 0])"
      ]
     },
     "execution_count": 8,
     "metadata": {},
     "output_type": "execute_result"
    }
   ],
   "source": [
    "np.random.permutation(5) #  дает numpy.array размером \"5\", с числами от 0 до 4 включительно, случайно перемешанными\n",
    "# если мы сюда подставим размер нашего трейнового датасета, \n",
    "# то мы получим некоторые индексы, в случайном порядке. \n",
    "# получается, что если мы от нашего датасета возьмём эти индексы, то мы получим \"пошафленный\", перемешанный датасет. "
   ]
  },
  {
   "cell_type": "code",
   "execution_count": 9,
   "metadata": {},
   "outputs": [
    {
     "name": "stdout",
     "output_type": "stream",
     "text": [
      "tensor(0.4074)\n",
      "tensor(0.4074)\n",
      "tensor(0.4630)\n",
      "tensor(0.5000)\n",
      "tensor(0.4259)\n",
      "tensor(0.4074)\n",
      "tensor(0.5185)\n",
      "tensor(0.5185)\n",
      "tensor(0.4444)\n",
      "tensor(0.4259)\n",
      "tensor(0.5000)\n",
      "tensor(0.5370)\n",
      "tensor(0.5370)\n",
      "tensor(0.5370)\n",
      "tensor(0.7407)\n",
      "tensor(0.6852)\n",
      "tensor(0.6481)\n",
      "tensor(0.6852)\n",
      "tensor(0.6481)\n",
      "tensor(0.6852)\n",
      "tensor(0.6852)\n",
      "tensor(0.6852)\n",
      "tensor(0.7222)\n",
      "tensor(0.7037)\n",
      "tensor(0.7407)\n",
      "tensor(0.7593)\n",
      "tensor(0.7778)\n",
      "tensor(0.7963)\n",
      "tensor(0.8148)\n",
      "tensor(0.8148)\n",
      "tensor(0.8148)\n",
      "tensor(0.8148)\n",
      "tensor(0.8333)\n",
      "tensor(0.8148)\n",
      "tensor(0.8333)\n",
      "tensor(0.8333)\n",
      "tensor(0.8333)\n",
      "tensor(0.8333)\n",
      "tensor(0.8519)\n",
      "tensor(0.8519)\n",
      "tensor(0.8519)\n",
      "tensor(0.8519)\n",
      "tensor(0.8519)\n",
      "tensor(0.8519)\n",
      "tensor(0.8519)\n",
      "tensor(0.8519)\n",
      "tensor(0.8519)\n",
      "tensor(0.8519)\n",
      "tensor(0.8519)\n",
      "tensor(0.8519)\n"
     ]
    }
   ],
   "source": [
    "batch_size = 10  #  каждую эпоху мы будем шаффлить датасет, и потом резать его на части. \n",
    "                 #  допустим, эти части будут размером десять элементов.\n",
    "\n",
    "for epoch in range(5000):\n",
    "    order = np.random.permutation(len(X_train)) # переменная \"order\" определяется каждую эпоху, \n",
    "                                                # которая говорит порядок индексов, который нужно применить к датасету.\n",
    "    \n",
    "    \n",
    "    #  каждую эпоху мы будем делать перемешивание нашего датасета, \n",
    "    #  определять переменную order, которая отвечает за порядок элементов.\n",
    "    for start_index in range(0, len(X_train), batch_size):\n",
    "        optimizer.zero_grad()\n",
    "        \n",
    "        batch_indexes = order[start_index:start_index+batch_size]  #  после этого мы из этого порядка будем вычислять некоторое подмножество, \n",
    "                                                                   #  начиная со start_index, который будет 0, 10, 20 и так далее, до конца батча. \n",
    "        # то есть batch_indexes -- это некоторые индексы, которые соответствуют текущему батчу. \n",
    "        \n",
    "        #  эти batch_indexes, мы их возьмём из X_train и y_train, чтобы получить и данные, и ответы.\n",
    "        x_batch = X_train[batch_indexes]\n",
    "        y_batch = y_train[batch_indexes]\n",
    "        \n",
    "        preds = wine_net.forward(x_batch) #  получим некоторые prediction. это выходы на последних трех нейронах.\n",
    "        \n",
    "        loss_value = loss(preds, y_batch) #  посчитаем loss на выходах нейронной сети и реальных значениях\n",
    "        loss_value.backward()  #  посчитаем производную у результата выполнения loss функции\n",
    "        \n",
    "        optimizer.step()\n",
    "        \n",
    "    if epoch % 100 == 0: #  Каждые 100 эпох будем вычислять метрики на тестовом датасете \n",
    "                         #  и смотреть, обучается у нас нейросеть, или нет. \n",
    "        \n",
    "        \n",
    "        \n",
    "        test_preds = wine_net.forward(X_test)  # каждые 100 эпох мы делаем forward по тестовым данным, \n",
    "                                               # получаем тестовые prediction\n",
    "        test_preds = test_preds.argmax(dim=1)  # вычисляем, какой выход был максимальный. \n",
    "                                  # посчитать argmax у выходов нейронной сети, это будет номер нейрона, \n",
    "                                  # и сравнить его с тем номером класса, который находится в Y_test.\n",
    "        print((test_preds == y_test).float().mean()) #  какая доля вот этого совпадения, \n",
    "                                                     #  когда у нас нейрон с максимальным выходом совпал с реально правильным классом. "
   ]
  },
  {
   "cell_type": "markdown",
   "metadata": {},
   "source": [
    "(!) необязательно ждать, пока обучение закончится, можно в любой момент его остановить руками, если мы чувствуем, что нейросеть уже сошлась и значения не изменяются. "
   ]
  },
  {
   "cell_type": "code",
   "execution_count": 10,
   "metadata": {},
   "outputs": [
    {
     "data": {
      "image/png": "[encoded data removed]",
      "text/plain": [
       "<Figure size 720x576 with 1 Axes>"
      ]
     },
     "metadata": {
      "needs_background": "light"
     },
     "output_type": "display_data"
    }
   ],
   "source": [
    "# визуализация\n",
    "# точками обозначен трейновый датасет, то есть те точки, на которых обучалась наша нейронная сеть, \n",
    "#а заполненными областями -- то, как бы нейросеть классифицировала точки в соответствующих значениях.\n",
    "\n",
    "plt.rcParams['figure.figsize'] = (10, 8)\n",
    "\n",
    "n_classes = 3\n",
    "plot_colors = ['g', 'orange', 'black']\n",
    "plot_step = 0.02\n",
    "\n",
    "x_min, x_max = X_train[:, 0].min() - 1, X_train[:, 0].max() + 1\n",
    "y_min, y_max = X_train[:, 1].min() - 1, X_train[:, 1].max() + 1\n",
    "\n",
    "xx, yy =  torch.meshgrid(torch.arange(x_min, x_max, plot_step),\n",
    "                         torch.arange(y_min, y_max, plot_step))\n",
    "\n",
    "preds = wine_net.inference(\n",
    "    torch.cat([xx.reshape(-1, 1), yy.reshape(-1, 1)], dim=1))\n",
    "\n",
    "preds_class = preds.data.numpy().argmax(axis=1)\n",
    "preds_class = preds_class.reshape(xx.shape)\n",
    "plt.contourf(xx, yy, preds_class, cmap='Accent')\n",
    "\n",
    "for i, color in zip(range(n_classes), plot_colors):\n",
    "    indexes = np.where(y_train == i)\n",
    "    plt.scatter(X_train[indexes, 0], \n",
    "                X_train[indexes, 1], \n",
    "                c=color, \n",
    "                label=wine.target_names[i],\n",
    "                cmap='Accent')\n",
    "    plt.xlabel(wine.feature_names[0])\n",
    "    plt.ylabel(wine.feature_names[1])\n",
    "    plt.legend()"
   ]
  },
  {
   "cell_type": "code",
   "execution_count": null,
   "metadata": {},
   "outputs": [],
   "source": []
  }
 ],
 "metadata": {
  "kernelspec": {
   "display_name": "Python 3",
   "language": "python",
   "name": "python3"
  },
  "language_info": {
   "codemirror_mode": {
    "name": "ipython",
    "version": 3
   },
   "file_extension": ".py",
   "mimetype": "text/x-python",
   "name": "python",
   "nbconvert_exporter": "python",
   "pygments_lexer": "ipython3",
   "version": "3.7.4"
  }
 },
 "nbformat": 4,
 "nbformat_minor": 2
}
