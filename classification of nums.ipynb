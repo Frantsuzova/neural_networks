{
 "cells": [
  {
   "cell_type": "code",
   "execution_count": 1,
   "metadata": {},
   "outputs": [],
   "source": [
    "import torch\n",
    "import random\n",
    "import numpy as np\n",
    "\n",
    "random.seed(0)\n",
    "np.random.seed(0)\n",
    "torch.manual_seed(0)\n",
    "torch.cuda.manual_seed(0)\n",
    "torch.backends.cudnn.deterministic = True"
   ]
  },
  {
   "cell_type": "code",
   "execution_count": 2,
   "metadata": {},
   "outputs": [
    {
     "name": "stdout",
     "output_type": "stream",
     "text": [
      "Downloading http://yann.lecun.com/exdb/mnist/train-images-idx3-ubyte.gz to ./MNIST\\raw\\train-images-idx3-ubyte.gz\n"
     ]
    },
    {
     "data": {
      "application/vnd.jupyter.widget-view+json": {
       "model_id": "bedfdd227b954e09b9e4cd2dea0cc6d5",
       "version_major": 2,
       "version_minor": 0
      },
      "text/plain": [
       "HBox(children=(IntProgress(value=1, bar_style='info', max=1), HTML(value='')))"
      ]
     },
     "metadata": {},
     "output_type": "display_data"
    },
    {
     "name": "stdout",
     "output_type": "stream",
     "text": [
      "Extracting ./MNIST\\raw\\train-images-idx3-ubyte.gz to ./MNIST\\raw\n",
      "Downloading http://yann.lecun.com/exdb/mnist/train-labels-idx1-ubyte.gz to ./MNIST\\raw\\train-labels-idx1-ubyte.gz\n"
     ]
    },
    {
     "data": {
      "application/vnd.jupyter.widget-view+json": {
       "model_id": "43f404e14afb40bbb64d592a7ad239f2",
       "version_major": 2,
       "version_minor": 0
      },
      "text/plain": [
       "HBox(children=(IntProgress(value=1, bar_style='info', max=1), HTML(value='')))"
      ]
     },
     "metadata": {},
     "output_type": "display_data"
    },
    {
     "name": "stdout",
     "output_type": "stream",
     "text": [
      "Extracting ./MNIST\\raw\\train-labels-idx1-ubyte.gz to ./MNIST\\raw\n",
      "Downloading http://yann.lecun.com/exdb/mnist/t10k-images-idx3-ubyte.gz to ./MNIST\\raw\\t10k-images-idx3-ubyte.gz\n"
     ]
    },
    {
     "data": {
      "application/vnd.jupyter.widget-view+json": {
       "model_id": "9402db407f8641f598372da2f3c27dcf",
       "version_major": 2,
       "version_minor": 0
      },
      "text/plain": [
       "HBox(children=(IntProgress(value=1, bar_style='info', max=1), HTML(value='')))"
      ]
     },
     "metadata": {},
     "output_type": "display_data"
    },
    {
     "name": "stdout",
     "output_type": "stream",
     "text": [
      "Extracting ./MNIST\\raw\\t10k-images-idx3-ubyte.gz to ./MNIST\\raw\n",
      "Downloading http://yann.lecun.com/exdb/mnist/t10k-labels-idx1-ubyte.gz to ./MNIST\\raw\\t10k-labels-idx1-ubyte.gz\n"
     ]
    },
    {
     "data": {
      "application/vnd.jupyter.widget-view+json": {
       "model_id": "d22795761f9e41749e4624093fc0f460",
       "version_major": 2,
       "version_minor": 0
      },
      "text/plain": [
       "HBox(children=(IntProgress(value=1, bar_style='info', max=1), HTML(value='')))"
      ]
     },
     "metadata": {},
     "output_type": "display_data"
    },
    {
     "name": "stdout",
     "output_type": "stream",
     "text": [
      "Extracting ./MNIST\\raw\\t10k-labels-idx1-ubyte.gz to ./MNIST\\raw\n",
      "Processing...\n",
      "Done!\n",
      "\n",
      "\n",
      "\n",
      "\n"
     ]
    }
   ],
   "source": [
    "import torchvision.datasets\n",
    "MNIST_train = torchvision.datasets.MNIST('./', download=True, train=True)\n",
    "MNIST_test = torchvision.datasets.MNIST('./', download=True, train=False)"
   ]
  },
  {
   "cell_type": "code",
   "execution_count": 3,
   "metadata": {},
   "outputs": [
    {
     "name": "stderr",
     "output_type": "stream",
     "text": [
      "D:\\myConda\\lib\\site-packages\\torchvision\\datasets\\mnist.py:55: UserWarning: train_data has been renamed data\n",
      "  warnings.warn(\"train_data has been renamed data\")\n",
      "D:\\myConda\\lib\\site-packages\\torchvision\\datasets\\mnist.py:45: UserWarning: train_labels has been renamed targets\n",
      "  warnings.warn(\"train_labels has been renamed targets\")\n",
      "D:\\myConda\\lib\\site-packages\\torchvision\\datasets\\mnist.py:60: UserWarning: test_data has been renamed data\n",
      "  warnings.warn(\"test_data has been renamed data\")\n",
      "D:\\myConda\\lib\\site-packages\\torchvision\\datasets\\mnist.py:50: UserWarning: test_labels has been renamed targets\n",
      "  warnings.warn(\"test_labels has been renamed targets\")\n"
     ]
    }
   ],
   "source": [
    "X_train = MNIST_train.train_data\n",
    "y_train = MNIST_train.train_labels\n",
    "X_test = MNIST_test.test_data\n",
    "y_test = MNIST_test.test_labels"
   ]
  },
  {
   "cell_type": "code",
   "execution_count": 6,
   "metadata": {},
   "outputs": [
    {
     "data": {
      "text/plain": [
       "(torch.uint8, torch.int64)"
      ]
     },
     "execution_count": 6,
     "metadata": {},
     "output_type": "execute_result"
    }
   ],
   "source": [
    "X_train.dtype, y_train.dtype"
   ]
  },
  {
   "cell_type": "code",
   "execution_count": 7,
   "metadata": {},
   "outputs": [],
   "source": [
    "X_train = X_train.float()\n",
    "X_test = X_test.float()"
   ]
  },
  {
   "cell_type": "code",
   "execution_count": 8,
   "metadata": {},
   "outputs": [
    {
     "data": {
      "text/plain": [
       "(torch.Size([60000, 28, 28]), torch.Size([10000, 28, 28]))"
      ]
     },
     "execution_count": 8,
     "metadata": {},
     "output_type": "execute_result"
    }
   ],
   "source": [
    "X_train.shape, X_test.shape # это трёхмерный тензор, а нам бы двумерный"
   ]
  },
  {
   "cell_type": "code",
   "execution_count": 9,
   "metadata": {},
   "outputs": [
    {
     "data": {
      "text/plain": [
       "(torch.Size([60000]), torch.Size([10000]))"
      ]
     },
     "execution_count": 9,
     "metadata": {},
     "output_type": "execute_result"
    }
   ],
   "source": [
    "y_train.shape, y_test.shape"
   ]
  },
  {
   "cell_type": "code",
   "execution_count": 13,
   "metadata": {},
   "outputs": [
    {
     "data": {
      "image/png": "[encoded data removed]",
      "text/plain": [
       "<Figure size 432x288 with 1 Axes>"
      ]
     },
     "metadata": {
      "needs_background": "light"
     },
     "output_type": "display_data"
    }
   ],
   "source": [
    "import matplotlib.pyplot as plt\n",
    "plt.imshow(X_train[5, :, :]) # но для начала отрисуем, чтобы знать, каковы данные\n",
    "plt.show()"
   ]
  },
  {
   "cell_type": "code",
   "execution_count": 14,
   "metadata": {},
   "outputs": [
    {
     "name": "stdout",
     "output_type": "stream",
     "text": [
      "tensor(2)\n"
     ]
    }
   ],
   "source": [
    "print(y_train[5]) # этому соответствует 5 в таргете"
   ]
  },
  {
   "cell_type": "code",
   "execution_count": 15,
   "metadata": {},
   "outputs": [],
   "source": [
    "X_train = X_train.reshape([-1, 28 * 28])\n",
    "#  У нас был тензор X_train, это трёхмерный тензор, \n",
    "#  а мы хотим двухмерный тензор, где первая размерность сохраниться -- будет 60 000 изображений, \n",
    "#  а вторая размерность, она растянется -- было 28х28, а получится одна размерность: 784 пикселя.\n",
    "X_test = X_test.reshape([-1, 28 * 28])"
   ]
  },
  {
   "cell_type": "code",
   "execution_count": 17,
   "metadata": {},
   "outputs": [
    {
     "data": {
      "text/plain": [
       "torch.Size([60000, 784])"
      ]
     },
     "execution_count": 17,
     "metadata": {},
     "output_type": "execute_result"
    }
   ],
   "source": [
    "X_train.shape # проверим размерность"
   ]
  },
  {
   "cell_type": "code",
   "execution_count": 18,
   "metadata": {},
   "outputs": [],
   "source": [
    "class MNISTNet(torch.nn.Module):  # создадим нейронную сеть\n",
    "    def __init__(self, n_hidden_neurons):\n",
    "        super(MNISTNet, self).__init__()\n",
    "        self.fc1 = torch.nn.Linear(28 * 28, n_hidden_neurons) # два полносвязанных слоя. сюда приходит 28 на 28, \n",
    "                                                              # (то есть вот эти 784 пикселя) и передаются в n_hidden_neurons\n",
    "        self.ac1 = torch.nn.Sigmoid() # функция активации, чтобы придать нелинейности\n",
    "        self.fc2 = torch.nn.Linear(n_hidden_neurons, 10) # а сюда приходит n_hidden_neurons,а на выходе одна из 10 цифр\n",
    "    \n",
    "    def forward(self, x):\n",
    "        x = self.fc1(x)\n",
    "        x = self.ac1(x)\n",
    "        x = self.fc2(x)\n",
    "        return x\n",
    "    \n",
    "mnist_net = MNISTNet(100) # создадим такую нейронную сеть, назовём её MNISTnet, скажем что у неё внутри 100 скрытых нейронов. "
   ]
  },
  {
   "cell_type": "code",
   "execution_count": null,
   "metadata": {},
   "outputs": [],
   "source": []
  },
  {
   "cell_type": "code",
   "execution_count": 25,
   "metadata": {},
   "outputs": [
    {
     "data": {
      "text/plain": [
       "False"
      ]
     },
     "execution_count": 25,
     "metadata": {},
     "output_type": "execute_result"
    }
   ],
   "source": [
    "torch.cuda.is_available()"
   ]
  },
  {
   "cell_type": "code",
   "execution_count": 26,
   "metadata": {},
   "outputs": [
    {
     "name": "stderr",
     "output_type": "stream",
     "text": [
      "\"nvidia-smi\" ­Ґ пў«пҐвбп ў­гваҐ­­Ґ© Ё«Ё ў­Ґи­Ґ©\n",
      "Є®¬ ­¤®©, ЁбЇ®«­пҐ¬®© Їа®Ја ¬¬®© Ё«Ё Ї ЄҐв­л¬ д ©«®¬.\n"
     ]
    }
   ],
   "source": [
    "!nvidia-smi"
   ]
  },
  {
   "cell_type": "code",
   "execution_count": 27,
   "metadata": {},
   "outputs": [
    {
     "data": {
      "text/plain": [
       "[Parameter containing:\n",
       " tensor([[-0.0003,  0.0192, -0.0294,  ...,  0.0219,  0.0037,  0.0021],\n",
       "         [-0.0198, -0.0150, -0.0104,  ..., -0.0203, -0.0060, -0.0299],\n",
       "         [-0.0201,  0.0149, -0.0333,  ..., -0.0203,  0.0012,  0.0080],\n",
       "         ...,\n",
       "         [ 0.0221,  0.0258, -0.0088,  ..., -0.0141,  0.0051, -0.0318],\n",
       "         [-0.0217, -0.0136,  0.0185,  ..., -0.0012, -0.0012, -0.0017],\n",
       "         [ 0.0142,  0.0089, -0.0053,  ...,  0.0311, -0.0181,  0.0020]],\n",
       "        requires_grad=True), Parameter containing:\n",
       " tensor([ 0.2896, -0.3967, -1.8129,  0.7900, -0.4180, -1.1845, -2.7207, -0.8449,\n",
       "         -0.0255, -1.2720, -0.9076, -1.3713, -1.5349,  0.9492, -0.7544,  0.6823,\n",
       "         -1.7295, -0.9960,  0.4311,  2.0223,  0.5158,  0.3564, -1.3188, -0.0385,\n",
       "         -0.7026,  0.1600, -0.9543, -0.0858,  0.4359,  0.2379, -0.2293, -0.9201,\n",
       "          1.0040, -0.6795,  0.2676, -0.8436,  1.7181, -0.7290,  0.6262,  0.0748,\n",
       "         -0.6961,  0.1009, -0.4099,  0.8146, -0.4944, -0.0658, -0.0544, -1.9937,\n",
       "          0.4723, -0.9053,  1.6176, -1.0850,  0.8109, -0.6009, -0.9228,  0.5929,\n",
       "         -0.3162, -0.4647,  0.5491,  0.3430,  0.1281, -0.0651, -0.4518,  0.1348,\n",
       "         -0.3757, -0.5429,  0.9315,  0.4358, -0.4459, -0.3788, -0.0190,  1.2540,\n",
       "          1.2316, -1.0337,  0.3422,  0.7536,  0.3210,  0.1193,  1.0422,  1.0594,\n",
       "         -0.5840,  0.7268,  0.8874, -0.0455, -0.5904, -0.0139, -0.0049, -0.0330,\n",
       "         -1.3508,  0.2005, -0.2170,  0.0614,  1.0190, -0.9879, -0.7000,  0.4256,\n",
       "         -0.8853, -0.1661, -0.5845,  0.1504], requires_grad=True), Parameter containing:\n",
       " tensor([[-1.2438e+00, -2.2077e+00,  1.3815e+00, -2.5101e-01, -2.2395e+00,\n",
       "           9.0912e-01, -3.6738e+00, -1.0458e+00, -9.1080e-01, -4.7095e+00,\n",
       "           1.0210e+00,  5.1635e-01,  5.7333e-01, -1.4854e+00, -7.9191e-01,\n",
       "          -1.1934e+00,  1.7363e-02, -7.0239e-01,  1.1892e+00, -2.1169e-01,\n",
       "          -2.2550e+00,  8.9285e-01, -2.8255e+00, -1.1184e-01, -7.1960e-01,\n",
       "           1.2793e-01,  5.5865e-01, -4.8433e-01, -3.7369e+00, -2.0951e+00,\n",
       "           1.6302e+00,  3.9676e-01, -3.1247e-01,  7.9541e-01, -9.9196e-01,\n",
       "          -1.6968e+00,  3.0246e+00, -1.4424e+00, -6.5822e-01,  4.5947e-01,\n",
       "          -4.1565e+00, -9.9173e-01, -6.3858e-02,  1.0831e+00,  5.8614e-01,\n",
       "          -3.5271e-01, -3.8728e-02, -1.8194e+00,  4.8808e-01, -6.4291e-01,\n",
       "           1.4617e+00,  5.6015e-01, -6.0349e-01, -2.6015e+00, -4.9764e-01,\n",
       "           7.5649e-01,  1.3235e-01,  4.1955e-01, -5.3257e-02, -1.8074e-01,\n",
       "          -8.9873e-01, -3.3121e-02, -1.6365e+00, -2.9256e+00, -2.0836e+00,\n",
       "          -9.2856e-01,  1.3288e+00, -9.8163e-03, -5.3012e+00, -1.4249e-01,\n",
       "          -8.8289e-01,  1.3040e-01,  1.0649e+00, -5.4559e-01, -8.0158e-01,\n",
       "           1.5058e+00, -3.6549e+00, -1.0857e+00,  7.8440e-01, -1.4792e+00,\n",
       "          -1.5307e+00, -2.2907e+00, -1.5426e+00,  4.7450e-01, -4.4539e+00,\n",
       "           2.3962e-02, -3.2267e-01, -2.2036e+00,  1.4068e+00, -2.2867e+00,\n",
       "          -1.6926e+00, -1.0403e+00,  8.6699e-01,  9.3719e-01,  1.5386e-01,\n",
       "           1.2747e+00, -6.3826e-01,  7.9946e-01,  3.0428e-01, -4.6343e+00],\n",
       "         [ 1.4778e+00, -3.4297e+00, -1.9106e-01,  7.5013e-01, -2.3582e-01,\n",
       "           9.0126e-01,  1.8837e-01,  1.4901e+00,  5.6181e-01,  1.7674e+00,\n",
       "          -8.9418e-01,  1.9023e-01, -2.1328e+00, -1.1324e+00,  1.0090e+00,\n",
       "           2.6870e+00, -1.5908e+00, -6.5225e-01,  2.0012e+00, -4.9468e-01,\n",
       "           2.3697e+00, -1.0623e+00, -2.6973e+00, -2.1801e-02, -2.0348e-01,\n",
       "           1.8373e+00, -1.7510e+00,  4.6016e-01,  4.8266e-01,  1.2420e-01,\n",
       "           5.0929e-01, -1.0871e+01, -1.2792e+00, -5.0153e+00,  1.3256e-02,\n",
       "           6.4251e-02,  6.6268e-01,  1.0940e+00, -1.9938e+00,  1.0943e+00,\n",
       "          -2.1185e+00,  8.0316e-01,  2.3849e+00, -2.2347e-01, -1.6308e+00,\n",
       "          -2.5789e-03, -4.1722e-01,  8.5117e-01,  1.5785e-01, -2.7001e-01,\n",
       "          -1.6120e+00, -1.1291e+00,  1.0886e+00,  9.6179e-01,  9.5759e-01,\n",
       "           2.8144e-01,  1.0417e+00, -1.8379e-01,  1.7125e+00, -2.2079e-01,\n",
       "          -6.3879e-01, -1.3601e-02,  9.9990e-02, -1.3946e+00, -3.0259e-01,\n",
       "           9.1062e-01, -8.1023e-01,  3.6651e-01,  1.2501e+00, -2.7182e+00,\n",
       "           6.4174e-01, -6.0260e-01, -1.7187e+00,  1.6555e+00, -1.0305e+00,\n",
       "          -2.0260e+00, -1.0376e+00,  5.7966e-01, -2.3047e+00, -1.8690e+00,\n",
       "           5.1611e-02, -1.3978e+00, -3.1365e+00, -9.6896e-01, -1.4354e+00,\n",
       "          -1.0082e-02, -2.7227e+00,  7.3149e-01, -4.5008e-01, -3.8909e+00,\n",
       "          -3.9395e+00,  5.3367e-01, -1.5637e+00,  3.0112e-01,  5.0965e-01,\n",
       "          -2.0957e-01,  3.6701e-01,  5.0807e-01,  2.6177e-01, -5.3657e-01],\n",
       "         [-7.7036e-01, -1.2736e-01, -9.7437e-01, -4.9627e-01, -1.6933e+00,\n",
       "          -1.2868e+00,  4.3600e-01, -1.5192e+00,  8.2330e-01, -2.7611e+00,\n",
       "          -2.6479e+00,  1.4945e+00,  2.6664e-01,  6.4435e-01, -3.1141e+00,\n",
       "           8.6294e-01,  6.2474e-01, -7.9489e-01,  1.8342e-01, -1.2528e+00,\n",
       "           1.3538e-01,  1.4057e-01, -2.1620e+00, -2.3018e-02, -5.8429e-01,\n",
       "          -6.3223e-01, -7.2231e-01,  5.5273e-01, -1.3188e+00, -1.0281e+00,\n",
       "          -8.0676e-01, -3.3454e+00, -2.1359e-01, -1.8270e+00,  1.2408e+00,\n",
       "          -1.9978e+00,  1.2961e+00,  4.8101e-01, -1.3579e+00, -5.3434e-01,\n",
       "          -1.5430e+00,  8.3924e-01,  1.3264e+00,  9.1505e-01, -9.5438e-01,\n",
       "           4.5430e-01,  1.8709e-01, -2.2515e+00, -4.6857e-01, -1.2108e+00,\n",
       "          -2.3688e+00, -3.1442e-01, -1.4415e+00,  4.4061e-03, -7.4674e-01,\n",
       "           1.7501e+00, -1.9885e+00, -3.1902e-01,  6.6263e-01,  8.4340e-01,\n",
       "           3.9304e-01,  5.1744e-02, -4.8233e-01, -7.8701e-01, -1.7853e-01,\n",
       "          -6.2320e-01,  7.9515e-01,  1.9482e+00,  4.3967e+00,  9.2335e-02,\n",
       "           9.0427e-01, -2.8307e+00, -7.6463e-01, -6.0933e-02,  3.7941e-01,\n",
       "          -2.5919e+00, -1.9128e+00,  7.8338e-01, -1.2964e+00, -2.1774e-01,\n",
       "          -1.3776e+00, -2.7311e-01, -1.7281e-01, -1.2838e+00, -1.7820e+00,\n",
       "           8.4983e-02,  2.3626e+00,  8.7749e-02,  3.9256e-01, -2.8528e+00,\n",
       "           7.5316e+00,  9.1123e-01,  7.1473e-01, -3.6841e-01, -3.2915e-01,\n",
       "           1.4613e-01, -1.2398e-01, -5.4538e-01, -1.5466e+00,  1.3377e+00],\n",
       "         [ 1.6699e-02, -1.1964e+00, -9.5068e-01, -4.0795e-01,  2.5562e+00,\n",
       "           2.3602e-01,  1.1581e+00, -1.3948e+00, -8.7397e-02, -3.5169e+00,\n",
       "          -9.3467e-01, -1.0716e+00,  8.5291e-01,  4.5366e-01, -1.2776e+00,\n",
       "          -2.0082e+00,  3.3740e-01,  7.4604e-01,  2.8898e-02,  9.5409e-01,\n",
       "           1.1603e+00, -1.5109e+00, -7.7977e-01, -3.2687e-02, -2.3589e+00,\n",
       "          -1.4845e+00,  4.0572e-01, -6.1599e-01,  1.7308e+00,  1.4689e+00,\n",
       "          -1.8286e-01, -4.8552e-01, -3.6399e-01,  1.4885e+00,  1.1715e+00,\n",
       "          -2.1189e+00, -2.2835e+00, -1.1359e+00,  8.2224e-01, -9.9387e-01,\n",
       "          -1.7813e-01,  7.1398e-02, -4.4214e-02, -1.1599e+00, -6.0771e-01,\n",
       "          -4.5097e-01, -7.9989e-01,  4.4627e-01,  1.2081e-01,  9.2388e-01,\n",
       "           2.0501e-01, -6.4850e-01,  9.5536e-01, -6.9929e-01, -1.8673e+00,\n",
       "           1.6268e-02, -1.3712e+00, -1.0093e+00, -7.2882e-01,  4.6775e-01,\n",
       "          -2.0589e+00,  3.5334e-02, -2.8115e-01, -1.5015e-01, -4.1393e-01,\n",
       "          -2.6328e-01, -2.5747e-02,  2.6721e-01, -2.5003e-01, -9.8714e-01,\n",
       "          -1.0486e-01, -3.8294e+00, -2.0409e-01, -4.3413e-01,  8.6721e-01,\n",
       "          -2.0287e+00,  1.2181e+00,  1.7928e-02,  9.7679e-01,  1.0811e+00,\n",
       "          -2.4857e-01,  5.5276e-01,  1.0279e+00,  9.0458e-01, -4.3850e-01,\n",
       "          -9.4483e-02,  6.5551e-01, -1.2069e+00, -2.7106e+00,  1.3703e+00,\n",
       "          -4.4590e+00, -2.0030e-01,  8.4140e-02,  4.0676e-01,  6.0499e-01,\n",
       "           2.8152e-01, -3.1114e-01, -7.8157e-01, -1.1332e+00, -1.6300e+00],\n",
       "         [ 1.5251e-01, -2.2084e+00, -8.1296e-01,  9.2917e-01, -2.7942e+00,\n",
       "          -2.7355e+00, -3.3502e+00, -1.9532e+00, -4.2859e-01, -1.9340e+00,\n",
       "           9.9952e-01, -6.3916e+00, -2.5173e+00,  6.3982e-01,  1.2181e+00,\n",
       "           1.2603e+00, -1.2292e+00, -1.7704e+00, -2.8186e+00,  6.6680e-02,\n",
       "          -5.8894e-01, -5.9793e-01, -3.5223e+00,  8.5103e-02,  8.3704e-01,\n",
       "           1.0011e+00, -2.7409e+00, -2.0266e+00, -3.1203e+00, -1.1046e-01,\n",
       "          -1.0678e+00, -1.0038e+00, -6.4723e-01, -4.2503e+00,  3.5446e-01,\n",
       "           6.6778e-01, -3.4643e+00, -1.7800e+00,  3.1475e-01, -1.0790e+00,\n",
       "          -8.4264e-01, -9.0044e-01,  1.1346e-01, -8.4957e-01,  7.8182e-01,\n",
       "           1.0870e-01, -3.4098e-01, -5.2310e-01,  5.0649e-01, -3.3571e+00,\n",
       "           7.0798e-01,  2.1324e+00,  2.4491e+00,  2.1892e+00,  5.1580e-01,\n",
       "          -3.5396e-01,  5.5478e-01,  4.9416e-02,  1.3758e+00, -1.8856e+00,\n",
       "           1.5685e+00, -1.0292e-01, -5.5815e-01,  8.1537e-01, -1.1077e+00,\n",
       "          -9.1557e-01, -8.0986e-01, -6.2723e-01, -2.9532e+00, -5.2256e+00,\n",
       "          -3.4148e-01,  1.8583e+00, -2.0003e-01,  1.4237e+00, -6.5744e-01,\n",
       "           1.6952e+00, -2.4793e-02, -3.5313e-01, -1.5372e+00,  1.6083e+00,\n",
       "           6.0898e-01,  1.7318e+00,  4.6832e-01, -1.9197e+00,  1.4203e+00,\n",
       "           7.9630e-03,  1.7045e+00,  2.8735e-01,  6.7229e-01, -7.1541e-01,\n",
       "          -2.2985e+00, -9.4657e-01, -5.5527e-01,  5.0903e-04, -1.0898e+00,\n",
       "          -1.5798e+00,  1.6225e+00, -4.6421e-01, -4.0725e-01,  1.0560e+00],\n",
       "         [-1.3121e+00,  1.1987e+00, -1.7817e+00, -7.1621e-01, -9.6703e-02,\n",
       "           2.7868e-01, -1.0112e+00,  1.0307e+00,  2.7107e-01, -2.9167e-01,\n",
       "          -2.1352e-02, -2.0374e+00,  1.0433e+00,  1.0800e+00,  5.8959e-01,\n",
       "          -1.1414e+00, -3.1244e-01,  1.2896e+00,  4.9796e-01,  1.6843e+00,\n",
       "          -3.2196e-01,  1.8054e+00,  2.4540e+00, -8.1836e-02,  6.4807e-01,\n",
       "           4.3519e-01,  4.8830e-01,  5.0992e-01,  7.0627e-01,  4.0085e-01,\n",
       "           3.1521e-01,  4.4289e-01,  1.7180e-01,  1.1639e+00, -1.7723e+00,\n",
       "          -7.3585e-01, -2.2138e+00,  8.9730e-01,  5.2754e-01,  1.1452e+00,\n",
       "           9.1627e-01, -2.6066e-01, -6.2653e-01, -7.0452e-01, -1.1413e+00,\n",
       "          -8.7919e-02, -1.6891e+00,  6.9660e-01, -2.0940e-01,  9.4144e-01,\n",
       "          -3.5678e-01, -9.6723e-01, -3.2445e+00, -3.6763e+00,  7.3934e-01,\n",
       "          -1.5324e+00, -7.9327e-01,  4.2576e-01,  2.4018e-01, -3.2739e-01,\n",
       "          -3.0313e+00,  4.8625e-02, -6.9714e-01, -1.8406e+00,  2.6013e-01,\n",
       "          -4.8772e-01, -3.9663e-01, -2.0842e+00, -1.5220e-01,  1.4814e+00,\n",
       "           3.0859e-01,  2.3462e-01, -4.0925e-02, -2.3406e+00,  5.2388e-01,\n",
       "          -1.1442e+00,  9.4565e-01,  3.3836e-01,  2.0944e+00,  2.3135e-01,\n",
       "          -1.9897e+00, -1.2152e+00,  9.6636e-02,  1.4869e+00,  2.0762e-01,\n",
       "          -7.4856e-02, -2.4794e+00, -1.5307e+00, -9.4368e-01,  2.9561e-01,\n",
       "          -4.1124e+00,  4.2712e-01,  4.6228e-01, -1.9662e+00,  4.1438e-01,\n",
       "           9.4358e-01, -8.0422e-01,  5.4621e-01,  8.7787e-02, -1.9096e+00],\n",
       "         [ 1.7565e-01,  1.5849e-01,  7.5827e-01,  2.0476e+00, -3.5984e+00,\n",
       "          -7.2059e-02, -3.2530e+00,  3.4763e-01, -1.3910e+00,  3.0957e+00,\n",
       "           1.6936e+00, -1.3180e+00, -3.2901e-02, -3.0872e-02,  1.0362e+00,\n",
       "          -1.2454e+00, -2.2193e+00, -1.6182e+00, -1.6078e+00,  2.8911e-01,\n",
       "          -1.2133e+00, -5.6606e-01,  1.2993e+00,  7.4128e-02,  1.1885e+00,\n",
       "           3.8219e-01,  1.2119e-01, -7.2922e-02, -4.5534e+00, -3.3336e-01,\n",
       "          -1.2029e+00,  7.7722e-01, -5.1809e-01, -5.2393e-03, -1.4784e+00,\n",
       "          -2.9225e+00,  3.9625e+00, -1.0905e+00, -4.8884e-02,  5.6937e-01,\n",
       "           9.0761e-01, -6.1939e-01, -1.8146e+00, -6.3735e-01, -1.6295e-01,\n",
       "          -1.5316e-02, -4.1646e-01, -4.3413e+00, -9.5978e-01,  1.7321e-01,\n",
       "           3.0539e-02,  1.2804e-01, -8.3704e-01, -3.1142e+00, -9.1355e-01,\n",
       "           1.9445e-01,  6.5796e-01, -3.3846e-01,  3.2455e-01, -9.2715e-01,\n",
       "          -4.7435e-01,  1.0262e-01, -1.5289e+00, -2.4026e+00, -3.9629e-01,\n",
       "          -1.6034e+00,  5.6095e-01,  5.1359e-01, -5.8792e+00, -4.5546e+00,\n",
       "          -1.3341e+00,  5.0979e+00,  1.3628e+00, -1.8296e+00,  1.8423e-01,\n",
       "           1.1171e+00, -3.5182e+00, -1.2411e+00,  6.2264e-01,  9.1583e-02,\n",
       "           1.0343e+00, -1.1858e+00, -1.1714e+00, -2.5075e-01, -3.1377e+00,\n",
       "          -3.0782e-02, -1.3334e+00, -1.9520e+00, -1.5474e-01, -7.6092e+00,\n",
       "          -6.4636e+00, -7.4915e-01, -1.2453e-01, -2.1463e+00, -2.0888e-02,\n",
       "          -2.1231e-01, -9.2999e-01,  1.7815e+00,  3.1946e-01, -4.9217e+00],\n",
       "         [ 3.4802e-01, -1.7867e-02,  1.9340e-01, -1.7656e+00,  1.6947e-01,\n",
       "          -1.5879e+00,  1.3121e+00, -2.1768e-01,  2.9920e-01, -3.5878e-01,\n",
       "          -4.2980e-01, -4.1723e+00, -1.3186e+00, -3.2068e-01, -1.3817e+00,\n",
       "           1.7724e+00, -5.9550e-01, -6.3352e-01,  1.0678e+00, -2.7288e-01,\n",
       "           5.2002e-01,  3.5998e-01, -2.8852e+00, -5.0647e-02, -2.7879e+00,\n",
       "          -1.5516e-01,  5.9001e-02, -7.9993e-01, -5.1046e-01, -1.1621e+00,\n",
       "           1.4324e+00, -8.1132e-01,  6.5863e-02, -1.2809e+00,  1.3785e-01,\n",
       "           2.2301e-01,  5.1552e-01,  1.3049e+00,  1.4478e-01, -6.9945e-01,\n",
       "          -1.8472e+00,  1.0252e-01, -1.0037e+00,  1.1341e+00,  4.1336e-01,\n",
       "           6.5538e-02, -3.0077e-01, -2.4401e+00,  6.6921e-01, -3.4771e+00,\n",
       "           1.7074e-01, -1.5029e-01, -4.5999e-01,  1.2813e+00,  5.4264e-01,\n",
       "           1.7454e-01, -1.0833e-01, -3.5613e-01, -2.2795e-01, -5.4997e-01,\n",
       "           1.2187e+00,  7.5541e-03,  7.4027e-01, -3.4116e-01, -9.0382e-02,\n",
       "           8.3481e-01, -2.1837e-01,  2.3517e-01, -3.1658e+00, -7.9929e-03,\n",
       "           3.2146e-01, -2.3779e+00, -8.1898e-01,  8.0678e-01, -1.0657e+00,\n",
       "          -7.9304e-01, -1.3172e-01,  2.8925e-01, -1.8836e-01, -1.2507e+00,\n",
       "           2.5526e-01,  3.7505e-01, -1.4332e+00, -7.3532e-01, -1.4617e+00,\n",
       "           4.5712e-02, -4.3610e-01,  3.6162e-01, -2.0008e-01, -1.4598e+00,\n",
       "          -3.2678e+00, -4.5309e-01,  2.9353e-01,  3.4273e-01, -2.2722e-01,\n",
       "          -2.1878e+00,  1.5711e+00, -2.1137e+00, -5.4417e-01,  6.5725e-01],\n",
       "         [ 1.2766e-01, -1.7765e-03, -1.1221e+00,  2.5862e-01, -1.1203e+00,\n",
       "           3.1778e-01, -2.6110e+00, -4.3771e-01,  3.6496e-01, -2.3275e+00,\n",
       "           1.7262e-01, -5.8522e+00, -3.1861e-01,  4.4930e-01, -7.1236e-01,\n",
       "          -2.0044e+00,  7.2078e-02,  2.2852e-01, -1.1521e+00,  4.2851e-01,\n",
       "          -7.4616e-01, -1.4172e-01, -1.3428e+00,  2.4368e-02,  4.0469e-01,\n",
       "          -1.3869e+00,  3.7785e-01, -4.1014e-01, -1.1499e+00,  6.3552e-01,\n",
       "          -3.0091e-01, -1.3188e+00,  4.3069e-01, -1.1564e+00,  6.6980e-01,\n",
       "          -1.1304e+00,  2.6767e+00, -2.5818e+00, -1.1976e+00, -3.6758e-02,\n",
       "           3.0387e-01,  8.6994e-02, -2.1907e+00,  3.5492e-01,  2.2497e-01,\n",
       "           2.0068e-01,  8.3031e-01, -3.0026e+00, -4.5356e-01, -9.8225e-02,\n",
       "          -1.7955e+00, -1.7090e+00,  3.3726e-01, -6.3855e-01, -2.8023e+00,\n",
       "          -3.0964e-01, -1.3559e+00, -1.5392e+00, -1.4800e+00, -3.6725e-03,\n",
       "           2.9430e-01,  2.2102e-02, -7.3781e-01,  4.6416e-01,  1.7875e-02,\n",
       "           4.7567e-01, -4.4732e-01, -2.8722e-01,  8.5609e-01, -1.1551e+00,\n",
       "           4.4189e-01, -5.1868e-02,  1.5732e-01, -1.1816e+00, -4.2044e-01,\n",
       "           1.1530e+00, -2.2440e+00,  3.2387e-01, -5.6557e-02, -1.2935e+00,\n",
       "          -1.2295e+00, -2.5021e+00,  1.9076e+00,  6.2015e-01,  7.8801e-01,\n",
       "           5.6689e-02, -2.4030e-01, -5.5462e-01, -2.0897e+00, -2.3974e+00,\n",
       "          -1.3313e+00,  9.3934e-01, -2.9237e-01, -8.4115e-01,  7.0812e-02,\n",
       "           8.0447e-01, -3.4671e+00, -5.1295e-01, -7.3734e-01, -6.8706e-01],\n",
       "         [-6.9784e-01, -5.9973e-01, -2.8285e+00, -9.1424e-01, -6.5648e-01,\n",
       "           3.2644e-01, -5.2590e+00, -2.5929e-01, -1.4118e-01, -4.3048e+00,\n",
       "          -1.7123e-02, -3.1854e+00, -2.3077e-01, -1.1419e+00, -2.4364e+00,\n",
       "           1.0510e-01,  2.3032e-01,  1.1838e-01, -1.9978e+00, -1.7567e+00,\n",
       "          -1.1786e+00,  1.8464e-01,  4.1563e-01, -4.1430e-02, -1.4269e+00,\n",
       "          -1.0799e+00, -1.3514e+00,  1.3406e-01, -2.5728e+00, -6.4736e-01,\n",
       "          -8.6982e-01,  9.3423e-01,  9.4163e-01, -3.7027e+00, -2.6192e-01,\n",
       "           2.4357e-01, -2.9921e+00, -3.0200e+00,  1.3011e+00, -3.6856e-01,\n",
       "          -1.5616e+00, -8.9419e-01, -3.0425e+00,  1.1272e-01,  7.6043e-01,\n",
       "          -1.1114e-01,  7.4395e-01,  8.3868e-02,  1.8331e-01, -8.8989e-01,\n",
       "           1.9517e+00,  1.2241e+00,  8.2214e-01, -5.5339e-01,  1.3517e+00,\n",
       "          -3.1076e-01,  1.7039e-01, -9.9227e-01, -1.6539e+00,  1.5290e+00,\n",
       "          -6.7001e-01, -8.0133e-02,  1.3274e-01,  8.2911e-02, -7.2830e-01,\n",
       "           2.5566e-01,  2.9131e-01, -1.4534e+00, -2.8966e+00, -6.3347e-01,\n",
       "          -1.5457e-01,  1.9691e+00, -1.8213e+00,  3.5676e-01, -2.9571e-01,\n",
       "           1.9352e+00,  1.2782e+00, -1.0125e-01, -1.6673e+00,  1.6088e+00,\n",
       "          -2.0894e-01,  5.3742e-01,  1.8284e+00,  4.7532e-02,  8.2070e-01,\n",
       "           8.2275e-02,  9.3781e-01,  5.0644e-01,  2.1273e-01, -2.1090e-02,\n",
       "          -1.7532e+00, -1.0853e+00, -2.6865e-01,  2.9436e-01, -6.3887e-01,\n",
       "          -1.4628e+00,  1.0903e-01, -1.6450e-01, -9.0557e-01, -9.8389e-01]],\n",
       "        requires_grad=True), Parameter containing:\n",
       " tensor([-0.8397,  0.6170,  0.7601,  0.0356, -0.3110,  0.3220, -1.4838,  0.3237,\n",
       "          0.4575, -0.2390], requires_grad=True)]"
      ]
     },
     "execution_count": 27,
     "metadata": {},
     "output_type": "execute_result"
    }
   ],
   "source": [
    "device = torch.device('cuda:0' if torch.cuda.is_available() else 'cpu')\n",
    "mnist_net = mnist_net.to(device)\n",
    "list(mnist_net.parameters())"
   ]
  },
  {
   "cell_type": "code",
   "execution_count": null,
   "metadata": {},
   "outputs": [],
   "source": []
  },
  {
   "cell_type": "code",
   "execution_count": null,
   "metadata": {},
   "outputs": [],
   "source": []
  },
  {
   "cell_type": "code",
   "execution_count": 28,
   "metadata": {},
   "outputs": [],
   "source": [
    "loss = torch.nn.CrossEntropyLoss() #  кросс-энтропия, потому что это loss, который используется в классификации.\n",
    "#  функция CrossEntropyLoss на вход принимает не вероятности, а те выходы, \n",
    "#  которые до софтмакса, то есть функция forward, которую мы написали, не содержала софтмакс, \n",
    "#  потому что мы хотим немножко ускорить наши вычисления, избежав софтмакса. \n",
    "#  Для ускорения вычислений можно софтмакс и кроссэнтропию соединить одну функцию, \n",
    "#  и тогда будут немножко быстрее и стабильнее выполнять вычисления. \n",
    "\n",
    "optimizer = torch.optim.Adam(mnist_net.parameters(), lr=1.0e-3) # метод градиентного спуска,\n",
    "                                             # здесь -- Adam (практически, золотой стандарт), на входе - все параметры сети"
   ]
  },
  {
   "cell_type": "code",
   "execution_count": 31,
   "metadata": {},
   "outputs": [
    {
     "name": "stdout",
     "output_type": "stream",
     "text": [
      "tensor(0.9705)\n",
      "tensor(0.9694)\n",
      "tensor(0.9694)\n",
      "tensor(0.9694)\n",
      "tensor(0.9702)\n",
      "tensor(0.9684)\n",
      "tensor(0.9697)\n",
      "tensor(0.9701)\n",
      "tensor(0.9706)\n",
      "tensor(0.9703)\n",
      "tensor(0.9703)\n",
      "tensor(0.9706)\n",
      "tensor(0.9695)\n",
      "tensor(0.9708)\n",
      "tensor(0.9708)\n",
      "tensor(0.9704)\n",
      "tensor(0.9704)\n",
      "tensor(0.9718)\n",
      "tensor(0.9728)\n",
      "tensor(0.9717)\n",
      "tensor(0.9708)\n",
      "tensor(0.9716)\n",
      "tensor(0.9704)\n",
      "tensor(0.9707)\n",
      "tensor(0.9714)\n",
      "tensor(0.9707)\n",
      "tensor(0.9708)\n",
      "tensor(0.9714)\n",
      "tensor(0.9709)\n",
      "tensor(0.9713)\n",
      "tensor(0.9704)\n",
      "tensor(0.9704)\n",
      "tensor(0.9695)\n",
      "tensor(0.9686)\n",
      "tensor(0.9689)\n",
      "tensor(0.9697)\n",
      "tensor(0.9702)\n",
      "tensor(0.9703)\n",
      "tensor(0.9685)\n",
      "tensor(0.9708)\n",
      "tensor(0.9712)\n",
      "tensor(0.9730)\n",
      "tensor(0.9722)\n",
      "tensor(0.9704)\n",
      "tensor(0.9697)\n",
      "tensor(0.9692)\n",
      "tensor(0.9684)\n",
      "tensor(0.9679)\n",
      "tensor(0.9687)\n",
      "tensor(0.9685)\n",
      "tensor(0.9701)\n",
      "tensor(0.9694)\n",
      "tensor(0.9696)\n",
      "tensor(0.9689)\n",
      "tensor(0.9680)\n",
      "tensor(0.9695)\n",
      "tensor(0.9688)\n",
      "tensor(0.9679)\n",
      "tensor(0.9688)\n",
      "tensor(0.9691)\n",
      "tensor(0.9688)\n",
      "tensor(0.9691)\n",
      "tensor(0.9689)\n",
      "tensor(0.9701)\n",
      "tensor(0.9697)\n",
      "tensor(0.9701)\n",
      "tensor(0.9689)\n",
      "tensor(0.9691)\n",
      "tensor(0.9692)\n",
      "tensor(0.9708)\n",
      "tensor(0.9681)\n",
      "tensor(0.9686)\n",
      "tensor(0.9689)\n",
      "tensor(0.9684)\n",
      "tensor(0.9687)\n",
      "tensor(0.9697)\n",
      "tensor(0.9716)\n",
      "tensor(0.9703)\n",
      "tensor(0.9708)\n",
      "tensor(0.9704)\n",
      "tensor(0.9721)\n",
      "tensor(0.9706)\n",
      "tensor(0.9687)\n",
      "tensor(0.9701)\n",
      "tensor(0.9725)\n",
      "tensor(0.9715)\n",
      "tensor(0.9701)\n",
      "tensor(0.9736)\n",
      "tensor(0.9717)\n",
      "tensor(0.9724)\n",
      "tensor(0.9703)\n",
      "tensor(0.9709)\n",
      "tensor(0.9721)\n",
      "tensor(0.9712)\n",
      "tensor(0.9709)\n",
      "tensor(0.9717)\n",
      "tensor(0.9729)\n",
      "tensor(0.9715)\n",
      "tensor(0.9714)\n",
      "tensor(0.9697)\n",
      "tensor(0.9714)\n",
      "tensor(0.9698)\n",
      "tensor(0.9717)\n",
      "tensor(0.9716)\n",
      "tensor(0.9674)\n",
      "tensor(0.9678)\n",
      "tensor(0.9699)\n",
      "tensor(0.9694)\n",
      "tensor(0.9715)\n",
      "tensor(0.9715)\n",
      "tensor(0.9720)\n",
      "tensor(0.9714)\n",
      "tensor(0.9709)\n",
      "tensor(0.9695)\n",
      "tensor(0.9703)\n",
      "tensor(0.9709)\n",
      "tensor(0.9701)\n",
      "tensor(0.9683)\n",
      "tensor(0.9689)\n",
      "tensor(0.9696)\n",
      "tensor(0.9699)\n",
      "tensor(0.9699)\n",
      "tensor(0.9689)\n",
      "tensor(0.9695)\n",
      "tensor(0.9705)\n",
      "tensor(0.9711)\n",
      "tensor(0.9712)\n",
      "tensor(0.9709)\n",
      "tensor(0.9722)\n",
      "tensor(0.9729)\n",
      "tensor(0.9709)\n",
      "tensor(0.9721)\n",
      "tensor(0.9707)\n",
      "tensor(0.9714)\n",
      "tensor(0.9697)\n",
      "tensor(0.9711)\n",
      "tensor(0.9717)\n",
      "tensor(0.9710)\n",
      "tensor(0.9713)\n",
      "tensor(0.9713)\n",
      "tensor(0.9707)\n",
      "tensor(0.9711)\n",
      "tensor(0.9720)\n",
      "tensor(0.9724)\n",
      "tensor(0.9721)\n",
      "tensor(0.9705)\n",
      "tensor(0.9704)\n",
      "tensor(0.9694)\n",
      "tensor(0.9715)\n",
      "tensor(0.9709)\n",
      "tensor(0.9716)\n",
      "tensor(0.9716)\n",
      "tensor(0.9708)\n",
      "tensor(0.9709)\n",
      "tensor(0.9695)\n",
      "tensor(0.9686)\n",
      "tensor(0.9705)\n",
      "tensor(0.9709)\n",
      "tensor(0.9708)\n",
      "tensor(0.9713)\n",
      "tensor(0.9716)\n",
      "tensor(0.9727)\n",
      "tensor(0.9708)\n",
      "tensor(0.9702)\n",
      "tensor(0.9707)\n",
      "tensor(0.9706)\n",
      "tensor(0.9700)\n",
      "tensor(0.9684)\n",
      "tensor(0.9692)\n",
      "tensor(0.9708)\n",
      "tensor(0.9712)\n",
      "tensor(0.9724)\n",
      "tensor(0.9701)\n",
      "tensor(0.9695)\n",
      "tensor(0.9695)\n",
      "tensor(0.9695)\n",
      "tensor(0.9670)\n",
      "tensor(0.9706)\n",
      "tensor(0.9716)\n",
      "tensor(0.9697)\n",
      "tensor(0.9697)\n",
      "tensor(0.9693)\n",
      "tensor(0.9699)\n",
      "tensor(0.9681)\n",
      "tensor(0.9722)\n",
      "tensor(0.9716)\n",
      "tensor(0.9700)\n",
      "tensor(0.9710)\n",
      "tensor(0.9712)\n",
      "tensor(0.9716)\n",
      "tensor(0.9721)\n",
      "tensor(0.9707)\n",
      "tensor(0.9692)\n",
      "tensor(0.9710)\n",
      "tensor(0.9692)\n",
      "tensor(0.9708)\n",
      "tensor(0.9702)\n",
      "tensor(0.9699)\n",
      "tensor(0.9711)\n",
      "tensor(0.9702)\n",
      "tensor(0.9709)\n",
      "tensor(0.9712)\n",
      "tensor(0.9717)\n",
      "tensor(0.9704)\n",
      "tensor(0.9690)\n",
      "tensor(0.9697)\n",
      "tensor(0.9695)\n",
      "tensor(0.9705)\n",
      "tensor(0.9700)\n",
      "tensor(0.9705)\n",
      "tensor(0.9702)\n",
      "tensor(0.9704)\n",
      "tensor(0.9690)\n",
      "tensor(0.9690)\n",
      "tensor(0.9705)\n",
      "tensor(0.9694)\n",
      "tensor(0.9709)\n",
      "tensor(0.9716)\n",
      "tensor(0.9704)\n",
      "tensor(0.9702)\n",
      "tensor(0.9697)\n",
      "tensor(0.9686)\n",
      "tensor(0.9700)\n",
      "tensor(0.9718)\n",
      "tensor(0.9700)\n",
      "tensor(0.9721)\n",
      "tensor(0.9698)\n",
      "tensor(0.9705)\n",
      "tensor(0.9715)\n",
      "tensor(0.9708)\n",
      "tensor(0.9711)\n",
      "tensor(0.9693)\n",
      "tensor(0.9705)\n",
      "tensor(0.9712)\n",
      "tensor(0.9710)\n",
      "tensor(0.9703)\n",
      "tensor(0.9703)\n",
      "tensor(0.9708)\n",
      "tensor(0.9678)\n",
      "tensor(0.9702)\n",
      "tensor(0.9715)\n",
      "tensor(0.9715)\n",
      "tensor(0.9717)\n",
      "tensor(0.9735)\n",
      "tensor(0.9732)\n",
      "tensor(0.9713)\n",
      "tensor(0.9710)\n",
      "tensor(0.9712)\n",
      "tensor(0.9713)\n",
      "tensor(0.9712)\n",
      "tensor(0.9702)\n",
      "tensor(0.9706)\n",
      "tensor(0.9712)\n",
      "tensor(0.9697)\n",
      "tensor(0.9696)\n",
      "tensor(0.9708)\n",
      "tensor(0.9708)\n",
      "tensor(0.9717)\n",
      "tensor(0.9721)\n",
      "tensor(0.9699)\n",
      "tensor(0.9701)\n",
      "tensor(0.9720)\n",
      "tensor(0.9709)\n",
      "tensor(0.9717)\n",
      "tensor(0.9707)\n",
      "tensor(0.9715)\n",
      "tensor(0.9710)\n",
      "tensor(0.9704)\n",
      "tensor(0.9701)\n",
      "tensor(0.9700)\n",
      "tensor(0.9709)\n",
      "tensor(0.9698)\n",
      "tensor(0.9707)\n",
      "tensor(0.9713)\n",
      "tensor(0.9704)\n",
      "tensor(0.9707)\n",
      "tensor(0.9702)\n",
      "tensor(0.9702)\n",
      "tensor(0.9715)\n",
      "tensor(0.9712)\n",
      "tensor(0.9698)\n",
      "tensor(0.9720)\n",
      "tensor(0.9700)\n",
      "tensor(0.9708)\n",
      "tensor(0.9682)\n",
      "tensor(0.9704)\n",
      "tensor(0.9690)\n",
      "tensor(0.9697)\n",
      "tensor(0.9694)\n",
      "tensor(0.9703)\n",
      "tensor(0.9711)\n",
      "tensor(0.9707)\n"
     ]
    },
    {
     "ename": "KeyboardInterrupt",
     "evalue": "",
     "output_type": "error",
     "traceback": [
      "\u001b[1;31m---------------------------------------------------------------------------\u001b[0m",
      "\u001b[1;31mKeyboardInterrupt\u001b[0m                         Traceback (most recent call last)",
      "\u001b[1;32m<ipython-input-31-adcf6d65fb74>\u001b[0m in \u001b[0;36m<module>\u001b[1;34m\u001b[0m\n\u001b[0;32m     26\u001b[0m \u001b[1;33m\u001b[0m\u001b[0m\n\u001b[0;32m     27\u001b[0m         \u001b[0mloss_value\u001b[0m \u001b[1;33m=\u001b[0m \u001b[0mloss\u001b[0m\u001b[1;33m(\u001b[0m\u001b[0mpreds\u001b[0m\u001b[1;33m,\u001b[0m \u001b[0my_batch\u001b[0m\u001b[1;33m)\u001b[0m\u001b[1;33m\u001b[0m\u001b[1;33m\u001b[0m\u001b[0m\n\u001b[1;32m---> 28\u001b[1;33m         \u001b[0mloss_value\u001b[0m\u001b[1;33m.\u001b[0m\u001b[0mbackward\u001b[0m\u001b[1;33m(\u001b[0m\u001b[1;33m)\u001b[0m\u001b[1;33m\u001b[0m\u001b[1;33m\u001b[0m\u001b[0m\n\u001b[0m\u001b[0;32m     29\u001b[0m \u001b[1;33m\u001b[0m\u001b[0m\n\u001b[0;32m     30\u001b[0m         \u001b[0moptimizer\u001b[0m\u001b[1;33m.\u001b[0m\u001b[0mstep\u001b[0m\u001b[1;33m(\u001b[0m\u001b[1;33m)\u001b[0m\u001b[1;33m\u001b[0m\u001b[1;33m\u001b[0m\u001b[0m\n",
      "\u001b[1;32mD:\\myConda\\lib\\site-packages\\torch\\tensor.py\u001b[0m in \u001b[0;36mbackward\u001b[1;34m(self, gradient, retain_graph, create_graph)\u001b[0m\n\u001b[0;32m    196\u001b[0m                 \u001b[0mproducts\u001b[0m\u001b[1;33m.\u001b[0m \u001b[0mDefaults\u001b[0m \u001b[0mto\u001b[0m\u001b[0;31m \u001b[0m\u001b[0;31m`\u001b[0m\u001b[0;31m`\u001b[0m\u001b[1;32mFalse\u001b[0m\u001b[0;31m`\u001b[0m\u001b[0;31m`\u001b[0m\u001b[1;33m.\u001b[0m\u001b[1;33m\u001b[0m\u001b[1;33m\u001b[0m\u001b[0m\n\u001b[0;32m    197\u001b[0m         \"\"\"\n\u001b[1;32m--> 198\u001b[1;33m         \u001b[0mtorch\u001b[0m\u001b[1;33m.\u001b[0m\u001b[0mautograd\u001b[0m\u001b[1;33m.\u001b[0m\u001b[0mbackward\u001b[0m\u001b[1;33m(\u001b[0m\u001b[0mself\u001b[0m\u001b[1;33m,\u001b[0m \u001b[0mgradient\u001b[0m\u001b[1;33m,\u001b[0m \u001b[0mretain_graph\u001b[0m\u001b[1;33m,\u001b[0m \u001b[0mcreate_graph\u001b[0m\u001b[1;33m)\u001b[0m\u001b[1;33m\u001b[0m\u001b[1;33m\u001b[0m\u001b[0m\n\u001b[0m\u001b[0;32m    199\u001b[0m \u001b[1;33m\u001b[0m\u001b[0m\n\u001b[0;32m    200\u001b[0m     \u001b[1;32mdef\u001b[0m \u001b[0mregister_hook\u001b[0m\u001b[1;33m(\u001b[0m\u001b[0mself\u001b[0m\u001b[1;33m,\u001b[0m \u001b[0mhook\u001b[0m\u001b[1;33m)\u001b[0m\u001b[1;33m:\u001b[0m\u001b[1;33m\u001b[0m\u001b[1;33m\u001b[0m\u001b[0m\n",
      "\u001b[1;32mD:\\myConda\\lib\\site-packages\\torch\\autograd\\__init__.py\u001b[0m in \u001b[0;36mbackward\u001b[1;34m(tensors, grad_tensors, retain_graph, create_graph, grad_variables)\u001b[0m\n\u001b[0;32m     91\u001b[0m         \u001b[0mgrad_tensors\u001b[0m \u001b[1;33m=\u001b[0m \u001b[0mlist\u001b[0m\u001b[1;33m(\u001b[0m\u001b[0mgrad_tensors\u001b[0m\u001b[1;33m)\u001b[0m\u001b[1;33m\u001b[0m\u001b[1;33m\u001b[0m\u001b[0m\n\u001b[0;32m     92\u001b[0m \u001b[1;33m\u001b[0m\u001b[0m\n\u001b[1;32m---> 93\u001b[1;33m     \u001b[0mgrad_tensors\u001b[0m \u001b[1;33m=\u001b[0m \u001b[0m_make_grads\u001b[0m\u001b[1;33m(\u001b[0m\u001b[0mtensors\u001b[0m\u001b[1;33m,\u001b[0m \u001b[0mgrad_tensors\u001b[0m\u001b[1;33m)\u001b[0m\u001b[1;33m\u001b[0m\u001b[1;33m\u001b[0m\u001b[0m\n\u001b[0m\u001b[0;32m     94\u001b[0m     \u001b[1;32mif\u001b[0m \u001b[0mretain_graph\u001b[0m \u001b[1;32mis\u001b[0m \u001b[1;32mNone\u001b[0m\u001b[1;33m:\u001b[0m\u001b[1;33m\u001b[0m\u001b[1;33m\u001b[0m\u001b[0m\n\u001b[0;32m     95\u001b[0m         \u001b[0mretain_graph\u001b[0m \u001b[1;33m=\u001b[0m \u001b[0mcreate_graph\u001b[0m\u001b[1;33m\u001b[0m\u001b[1;33m\u001b[0m\u001b[0m\n",
      "\u001b[1;32mD:\\myConda\\lib\\site-packages\\torch\\autograd\\__init__.py\u001b[0m in \u001b[0;36m_make_grads\u001b[1;34m(outputs, grads)\u001b[0m\n\u001b[0;32m     33\u001b[0m                 \u001b[1;32mif\u001b[0m \u001b[0mout\u001b[0m\u001b[1;33m.\u001b[0m\u001b[0mnumel\u001b[0m\u001b[1;33m(\u001b[0m\u001b[1;33m)\u001b[0m \u001b[1;33m!=\u001b[0m \u001b[1;36m1\u001b[0m\u001b[1;33m:\u001b[0m\u001b[1;33m\u001b[0m\u001b[1;33m\u001b[0m\u001b[0m\n\u001b[0;32m     34\u001b[0m                     \u001b[1;32mraise\u001b[0m \u001b[0mRuntimeError\u001b[0m\u001b[1;33m(\u001b[0m\u001b[1;34m\"grad can be implicitly created only for scalar outputs\"\u001b[0m\u001b[1;33m)\u001b[0m\u001b[1;33m\u001b[0m\u001b[1;33m\u001b[0m\u001b[0m\n\u001b[1;32m---> 35\u001b[1;33m                 \u001b[0mnew_grads\u001b[0m\u001b[1;33m.\u001b[0m\u001b[0mappend\u001b[0m\u001b[1;33m(\u001b[0m\u001b[0mtorch\u001b[0m\u001b[1;33m.\u001b[0m\u001b[0mones_like\u001b[0m\u001b[1;33m(\u001b[0m\u001b[0mout\u001b[0m\u001b[1;33m,\u001b[0m \u001b[0mmemory_format\u001b[0m\u001b[1;33m=\u001b[0m\u001b[0mtorch\u001b[0m\u001b[1;33m.\u001b[0m\u001b[0mpreserve_format\u001b[0m\u001b[1;33m)\u001b[0m\u001b[1;33m)\u001b[0m\u001b[1;33m\u001b[0m\u001b[1;33m\u001b[0m\u001b[0m\n\u001b[0m\u001b[0;32m     36\u001b[0m             \u001b[1;32melse\u001b[0m\u001b[1;33m:\u001b[0m\u001b[1;33m\u001b[0m\u001b[1;33m\u001b[0m\u001b[0m\n\u001b[0;32m     37\u001b[0m                 \u001b[0mnew_grads\u001b[0m\u001b[1;33m.\u001b[0m\u001b[0mappend\u001b[0m\u001b[1;33m(\u001b[0m\u001b[1;32mNone\u001b[0m\u001b[1;33m)\u001b[0m\u001b[1;33m\u001b[0m\u001b[1;33m\u001b[0m\u001b[0m\n",
      "\u001b[1;31mKeyboardInterrupt\u001b[0m: "
     ]
    }
   ],
   "source": [
    "# будем обучаться батчевым или стохастическим градиентным спуском. \n",
    "# То есть мы будем делить наш датасет на маленькие части (так называемые батчи), \n",
    "# передавать эти батчи в нейронную сеть с помощью функции forward.\n",
    "\n",
    "batch_size = 100\n",
    "\n",
    "test_accuracy_history = []\n",
    "test_loss_history = []\n",
    "\n",
    "X_test = X_test.to(device)\n",
    "y_test = y_test.to(device)\n",
    "\n",
    "\n",
    "for epoch in range(10000):\n",
    "    order = np.random.permutation(len(X_train))\n",
    "    \n",
    "    for start_index in range(0, len(X_train), batch_size):\n",
    "        optimizer.zero_grad()\n",
    "        \n",
    "        batch_indexes = order[start_index:start_index+batch_size]\n",
    "        \n",
    "        X_batch = X_train[batch_indexes] #.to(device)\n",
    "        y_batch = y_train[batch_indexes] #.to(device)\n",
    "        \n",
    "        preds = mnist_net.forward(X_batch) \n",
    "        \n",
    "        loss_value = loss(preds, y_batch)\n",
    "        loss_value.backward()\n",
    "        \n",
    "        optimizer.step()\n",
    "\n",
    "    test_preds = mnist_net.forward(X_test)\n",
    "    test_loss_history.append(loss(test_preds, y_test))\n",
    "    \n",
    "    accuracy = (test_preds.argmax(dim=1) == y_test).float().mean()\n",
    "    test_accuracy_history.append(accuracy)\n",
    "    print(accuracy)"
   ]
  },
  {
   "cell_type": "code",
   "execution_count": 32,
   "metadata": {},
   "outputs": [
    {
     "data": {
      "image/png": "[encoded data removed]",
      "text/plain": [
       "<Figure size 432x288 with 1 Axes>"
      ]
     },
     "metadata": {
      "needs_background": "light"
     },
     "output_type": "display_data"
    }
   ],
   "source": [
    "plt.plot(test_accuracy_history)\n",
    "plt.plot(test_loss_history);"
   ]
  },
  {
   "cell_type": "code",
   "execution_count": null,
   "metadata": {},
   "outputs": [],
   "source": []
  }
 ],
 "metadata": {
  "kernelspec": {
   "display_name": "Python 3",
   "language": "python",
   "name": "python3"
  },
  "language_info": {
   "codemirror_mode": {
    "name": "ipython",
    "version": 3
   },
   "file_extension": ".py",
   "mimetype": "text/x-python",
   "name": "python",
   "nbconvert_exporter": "python",
   "pygments_lexer": "ipython3",
   "version": "3.7.4"
  }
 },
 "nbformat": 4,
 "nbformat_minor": 2
}
