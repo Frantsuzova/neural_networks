{
  "nbformat": 4,
  "nbformat_minor": 0,
  "metadata": {
    "colab": {
      "name": "prediction_behavior_of_customers.ipynb",
      "provenance": []
    },
    "kernelspec": {
      "name": "python3",
      "display_name": "Python 3"
    }
  },
  "cells": [
    {
      "cell_type": "code",
      "metadata": {
        "id": "kDJAt0V_SO1S",
        "colab_type": "code",
        "colab": {}
      },
      "source": [
        "import pandas as pd\n",
        "\n",
        "import torch\n",
        "from torch import nn, optim\n",
        "from torch.functional import F\n",
        "\n",
        "import seaborn as sns\n",
        "import matplotlib.pyplot as plt\n",
        "from sklearn.tree import DecisionTreeClassifier\n",
        "from sklearn.preprocessing import LabelEncoder\n",
        "\n",
        "%matplotlib inline\n",
        "sns.set(style=\"darkgrid\")\n",
        "sns.set_palette(\"hls\", 3)\n",
        "\n",
        "import math\n",
        "import numpy as np\n",
        "import math\n",
        "import statsmodels.api as sm\n",
        "import matplotlib.pyplot as plt\n",
        "import seaborn as sns\n",
        "from sklearn.metrics import roc_auc_score\n",
        "from sklearn.linear_model import LogisticRegression\n",
        "\n",
        "from warnings import filterwarnings\n",
        "filterwarnings('ignore')"
      ],
      "execution_count": 0,
      "outputs": []
    },
    {
      "cell_type": "markdown",
      "metadata": {
        "id": "4wyYfxIw6PcY",
        "colab_type": "text"
      },
      "source": [
        "# Data loading"
      ]
    },
    {
      "cell_type": "markdown",
      "metadata": {
        "id": "HLJF3Ck3Ssky",
        "colab_type": "text"
      },
      "source": [
        "Данные - https://www.kaggle.com/blastchar/telco-customer-churn\n",
        "\n",
        "предсказать вероятность оттока пользователей сервиса"
      ]
    },
    {
      "cell_type": "code",
      "metadata": {
        "id": "X9jpuWyaSQIW",
        "colab_type": "code",
        "colab": {
          "base_uri": "https://localhost:8080/",
          "height": 33
        },
        "outputId": "ffca41a8-71a0-40b0-ae49-456b26c7f81e"
      },
      "source": [
        "df_churn = pd.read_csv(\"http://nagornyy.me/datasets/telco-customer-churn.zip\")\n",
        "df_churn.shape"
      ],
      "execution_count": 35,
      "outputs": [
        {
          "output_type": "execute_result",
          "data": {
            "text/plain": [
              "(7043, 21)"
            ]
          },
          "metadata": {
            "tags": []
          },
          "execution_count": 35
        }
      ]
    },
    {
      "cell_type": "code",
      "metadata": {
        "id": "GDhrghQ1STcM",
        "colab_type": "code",
        "colab": {
          "base_uri": "https://localhost:8080/",
          "height": 300
        },
        "outputId": "34a448af-275f-4084-ab9f-9e6820a12795"
      },
      "source": [
        "df_churn.head(5)"
      ],
      "execution_count": 36,
      "outputs": [
        {
          "output_type": "execute_result",
          "data": {
            "text/html": [
              "<div>\n",
              "<style scoped>\n",
              "    .dataframe tbody tr th:only-of-type {\n",
              "        vertical-align: middle;\n",
              "    }\n",
              "\n",
              "    .dataframe tbody tr th {\n",
              "        vertical-align: top;\n",
              "    }\n",
              "\n",
              "    .dataframe thead th {\n",
              "        text-align: right;\n",
              "    }\n",
              "</style>\n",
              "<table border=\"1\" class=\"dataframe\">\n",
              "  <thead>\n",
              "    <tr style=\"text-align: right;\">\n",
              "      <th></th>\n",
              "      <th>customerID</th>\n",
              "      <th>gender</th>\n",
              "      <th>SeniorCitizen</th>\n",
              "      <th>Partner</th>\n",
              "      <th>Dependents</th>\n",
              "      <th>tenure</th>\n",
              "      <th>PhoneService</th>\n",
              "      <th>MultipleLines</th>\n",
              "      <th>InternetService</th>\n",
              "      <th>OnlineSecurity</th>\n",
              "      <th>OnlineBackup</th>\n",
              "      <th>DeviceProtection</th>\n",
              "      <th>TechSupport</th>\n",
              "      <th>StreamingTV</th>\n",
              "      <th>StreamingMovies</th>\n",
              "      <th>Contract</th>\n",
              "      <th>PaperlessBilling</th>\n",
              "      <th>PaymentMethod</th>\n",
              "      <th>MonthlyCharges</th>\n",
              "      <th>TotalCharges</th>\n",
              "      <th>Churn</th>\n",
              "    </tr>\n",
              "  </thead>\n",
              "  <tbody>\n",
              "    <tr>\n",
              "      <th>0</th>\n",
              "      <td>7590-VHVEG</td>\n",
              "      <td>Female</td>\n",
              "      <td>0</td>\n",
              "      <td>Yes</td>\n",
              "      <td>No</td>\n",
              "      <td>1</td>\n",
              "      <td>No</td>\n",
              "      <td>No phone service</td>\n",
              "      <td>DSL</td>\n",
              "      <td>No</td>\n",
              "      <td>Yes</td>\n",
              "      <td>No</td>\n",
              "      <td>No</td>\n",
              "      <td>No</td>\n",
              "      <td>No</td>\n",
              "      <td>Month-to-month</td>\n",
              "      <td>Yes</td>\n",
              "      <td>Electronic check</td>\n",
              "      <td>29.85</td>\n",
              "      <td>29.85</td>\n",
              "      <td>No</td>\n",
              "    </tr>\n",
              "    <tr>\n",
              "      <th>1</th>\n",
              "      <td>5575-GNVDE</td>\n",
              "      <td>Male</td>\n",
              "      <td>0</td>\n",
              "      <td>No</td>\n",
              "      <td>No</td>\n",
              "      <td>34</td>\n",
              "      <td>Yes</td>\n",
              "      <td>No</td>\n",
              "      <td>DSL</td>\n",
              "      <td>Yes</td>\n",
              "      <td>No</td>\n",
              "      <td>Yes</td>\n",
              "      <td>No</td>\n",
              "      <td>No</td>\n",
              "      <td>No</td>\n",
              "      <td>One year</td>\n",
              "      <td>No</td>\n",
              "      <td>Mailed check</td>\n",
              "      <td>56.95</td>\n",
              "      <td>1889.5</td>\n",
              "      <td>No</td>\n",
              "    </tr>\n",
              "    <tr>\n",
              "      <th>2</th>\n",
              "      <td>3668-QPYBK</td>\n",
              "      <td>Male</td>\n",
              "      <td>0</td>\n",
              "      <td>No</td>\n",
              "      <td>No</td>\n",
              "      <td>2</td>\n",
              "      <td>Yes</td>\n",
              "      <td>No</td>\n",
              "      <td>DSL</td>\n",
              "      <td>Yes</td>\n",
              "      <td>Yes</td>\n",
              "      <td>No</td>\n",
              "      <td>No</td>\n",
              "      <td>No</td>\n",
              "      <td>No</td>\n",
              "      <td>Month-to-month</td>\n",
              "      <td>Yes</td>\n",
              "      <td>Mailed check</td>\n",
              "      <td>53.85</td>\n",
              "      <td>108.15</td>\n",
              "      <td>Yes</td>\n",
              "    </tr>\n",
              "    <tr>\n",
              "      <th>3</th>\n",
              "      <td>7795-CFOCW</td>\n",
              "      <td>Male</td>\n",
              "      <td>0</td>\n",
              "      <td>No</td>\n",
              "      <td>No</td>\n",
              "      <td>45</td>\n",
              "      <td>No</td>\n",
              "      <td>No phone service</td>\n",
              "      <td>DSL</td>\n",
              "      <td>Yes</td>\n",
              "      <td>No</td>\n",
              "      <td>Yes</td>\n",
              "      <td>Yes</td>\n",
              "      <td>No</td>\n",
              "      <td>No</td>\n",
              "      <td>One year</td>\n",
              "      <td>No</td>\n",
              "      <td>Bank transfer (automatic)</td>\n",
              "      <td>42.30</td>\n",
              "      <td>1840.75</td>\n",
              "      <td>No</td>\n",
              "    </tr>\n",
              "    <tr>\n",
              "      <th>4</th>\n",
              "      <td>9237-HQITU</td>\n",
              "      <td>Female</td>\n",
              "      <td>0</td>\n",
              "      <td>No</td>\n",
              "      <td>No</td>\n",
              "      <td>2</td>\n",
              "      <td>Yes</td>\n",
              "      <td>No</td>\n",
              "      <td>Fiber optic</td>\n",
              "      <td>No</td>\n",
              "      <td>No</td>\n",
              "      <td>No</td>\n",
              "      <td>No</td>\n",
              "      <td>No</td>\n",
              "      <td>No</td>\n",
              "      <td>Month-to-month</td>\n",
              "      <td>Yes</td>\n",
              "      <td>Electronic check</td>\n",
              "      <td>70.70</td>\n",
              "      <td>151.65</td>\n",
              "      <td>Yes</td>\n",
              "    </tr>\n",
              "  </tbody>\n",
              "</table>\n",
              "</div>"
            ],
            "text/plain": [
              "   customerID  gender  SeniorCitizen  ... MonthlyCharges TotalCharges  Churn\n",
              "0  7590-VHVEG  Female              0  ...          29.85        29.85     No\n",
              "1  5575-GNVDE    Male              0  ...          56.95       1889.5     No\n",
              "2  3668-QPYBK    Male              0  ...          53.85       108.15    Yes\n",
              "3  7795-CFOCW    Male              0  ...          42.30      1840.75     No\n",
              "4  9237-HQITU  Female              0  ...          70.70       151.65    Yes\n",
              "\n",
              "[5 rows x 21 columns]"
            ]
          },
          "metadata": {
            "tags": []
          },
          "execution_count": 36
        }
      ]
    },
    {
      "cell_type": "markdown",
      "metadata": {
        "id": "atnFTTMk6W6l",
        "colab_type": "text"
      },
      "source": [
        "## Analysis"
      ]
    },
    {
      "cell_type": "code",
      "metadata": {
        "id": "nEIIUCaP34gG",
        "colab_type": "code",
        "colab": {
          "base_uri": "https://localhost:8080/",
          "height": 117
        },
        "outputId": "d0c73c0e-b4c7-4cc7-eb7f-6d07f2c43927"
      },
      "source": [
        "df_churn.columns"
      ],
      "execution_count": 99,
      "outputs": [
        {
          "output_type": "execute_result",
          "data": {
            "text/plain": [
              "Index(['customerID', 'gender', 'SeniorCitizen', 'Partner', 'Dependents',\n",
              "       'tenure', 'PhoneService', 'MultipleLines', 'InternetService',\n",
              "       'OnlineSecurity', 'OnlineBackup', 'DeviceProtection', 'TechSupport',\n",
              "       'StreamingTV', 'StreamingMovies', 'Contract', 'PaperlessBilling',\n",
              "       'PaymentMethod', 'MonthlyCharges', 'TotalCharges', 'Churn'],\n",
              "      dtype='object')"
            ]
          },
          "metadata": {
            "tags": []
          },
          "execution_count": 99
        }
      ]
    },
    {
      "cell_type": "code",
      "metadata": {
        "id": "1XTkkOcu3Fof",
        "colab_type": "code",
        "colab": {
          "base_uri": "https://localhost:8080/",
          "height": 482
        },
        "outputId": "5a3006bf-ad5f-4373-9a27-226260b82f0c"
      },
      "source": [
        "from pylab import rcParams\n",
        "\n",
        "labels =df_churn.Churn.value_counts(sort = True).index\n",
        "sizes = df_churn.Churn.value_counts(sort = True)\n",
        "\n",
        "colors = [\"whitesmoke\",\"red\"]\n",
        "explode = (0.1,0)  # explode 1st slice\n",
        " \n",
        "rcParams['figure.figsize'] = 8,8\n",
        "# Plot\n",
        "plt.pie(sizes, explode=explode, labels=labels, colors=colors,\n",
        "        autopct='%1.1f%%', shadow=True, startangle=60,)\n",
        "\n",
        "plt.title('Percent of churn in customer')\n",
        "plt.show()"
      ],
      "execution_count": 96,
      "outputs": [
        {
          "output_type": "display_data",
          "data": {
            "image/png": "[encoded data removed]",
            "text/plain": [
              "<Figure size 576x576 with 1 Axes>"
            ]
          },
          "metadata": {
            "tags": []
          }
        }
      ]
    },
    {
      "cell_type": "code",
      "metadata": {
        "id": "INLOjtGcy40W",
        "colab_type": "code",
        "colab": {}
      },
      "source": [
        "columns_idx = np.s_[0:] \n",
        "first_record_idx = np.s_[0] \n",
        "\n",
        "string_fields = [type(fld) is str for fld in df_churn.iloc[first_record_idx, columns_idx]]\n",
        "all_features = [x for x in df_churn.columns if x != 'Churn']\n",
        "categorical_columns = list(np.array(df_churn.columns)[columns_idx][string_fields])\n",
        "categorical_features = [x for x in categorical_columns if x != 'Churn']\n",
        "continuous_features = [x for x in all_features if x not in categorical_features]"
      ],
      "execution_count": 0,
      "outputs": []
    },
    {
      "cell_type": "code",
      "metadata": {
        "id": "9YGiSNS846pK",
        "colab_type": "code",
        "colab": {
          "base_uri": "https://localhost:8080/",
          "height": 502
        },
        "outputId": "fc865c32-7a79-439c-8754-259ea9ac8ad6"
      },
      "source": [
        "plt.figure()\n",
        "df_churn.TotalCharges.hist();\n",
        "plt.xlabel('TotalCharges');\n",
        "plt.ylabel('frequency');"
      ],
      "execution_count": 106,
      "outputs": [
        {
          "output_type": "display_data",
          "data": {
            "image/png": "[encoded data removed]",
            "text/plain": [
              "<Figure size 576x576 with 1 Axes>"
            ]
          },
          "metadata": {
            "tags": []
          }
        }
      ]
    },
    {
      "cell_type": "code",
      "metadata": {
        "id": "oxAfB_guzXKB",
        "colab_type": "code",
        "colab": {
          "base_uri": "https://localhost:8080/",
          "height": 399
        },
        "outputId": "e988b387-b5e5-4a86-dbc0-887db7d451db"
      },
      "source": [
        "fig, ax = plt.subplots(2, 2, figsize=(28, 8))\n",
        "df_churn[df_churn.Churn == 'No'][continuous_features].hist(bins=20, color=\"blue\", alpha=0.5, ax=ax);\n",
        "df_churn[df_churn.Churn == 'Yes'][continuous_features].hist(bins=20, color=\"orange\", alpha=0.5, ax=ax);"
      ],
      "execution_count": 80,
      "outputs": [
        {
          "output_type": "display_data",
          "data": {
            "image/png": "[encoded data removed]",
            "text/plain": [
              "<Figure size 2016x576 with 4 Axes>"
            ]
          },
          "metadata": {
            "tags": []
          }
        }
      ]
    },
    {
      "cell_type": "code",
      "metadata": {
        "id": "kX47bObDzqCT",
        "colab_type": "code",
        "colab": {
          "base_uri": "https://localhost:8080/",
          "height": 502
        },
        "outputId": "726cf0e1-e032-4693-931e-51da4e53c41a"
      },
      "source": [
        "f, ((ax1, ax2), (ax3, ax4)) = plt.subplots(2, 2, figsize=(8, 8))\n",
        "ax = [ax1, ax2, ax3, ax4]\n",
        "\n",
        "for i in range(len(continuous_features)):\n",
        "    sns.boxplot(x = 'Churn', y = continuous_features[i], data=df_churn, ax=ax[i])"
      ],
      "execution_count": 86,
      "outputs": [
        {
          "output_type": "display_data",
          "data": {
            "image/png": "[encoded data removed]",
            "text/plain": [
              "<Figure size 576x576 with 4 Axes>"
            ]
          },
          "metadata": {
            "tags": []
          }
        }
      ]
    },
    {
      "cell_type": "code",
      "metadata": {
        "id": "xKPWNX-_SVQg",
        "colab_type": "code",
        "colab": {}
      },
      "source": [
        "df_churn[\"TotalCharges\"] = pd.to_numeric(df_churn.TotalCharges, errors=\"coerce\")\n",
        "df_churn.dropna(inplace=True)"
      ],
      "execution_count": 0,
      "outputs": []
    },
    {
      "cell_type": "code",
      "metadata": {
        "id": "7bu7t1qq9DFL",
        "colab_type": "code",
        "colab": {}
      },
      "source": [
        "df_churn['Churn']=df_churn['Churn'].replace({\"Yes\":1,\"No\":0})"
      ],
      "execution_count": 0,
      "outputs": []
    },
    {
      "cell_type": "code",
      "metadata": {
        "id": "DvX0MS9F9DOx",
        "colab_type": "code",
        "colab": {
          "base_uri": "https://localhost:8080/",
          "height": 419
        },
        "outputId": "1ff4d789-e8a5-4189-f9e3-39aa59e34fa2"
      },
      "source": [
        "plt.figure(figsize=(8,5))\n",
        "df_churn.corr()['Churn'].sort_values(ascending = False).plot(kind='bar')"
      ],
      "execution_count": 134,
      "outputs": [
        {
          "output_type": "execute_result",
          "data": {
            "text/plain": [
              "<matplotlib.axes._subplots.AxesSubplot at 0x7fd8ac578f98>"
            ]
          },
          "metadata": {
            "tags": []
          },
          "execution_count": 134
        },
        {
          "output_type": "display_data",
          "data": {
            "image/png": "[encoded data removed]",
            "text/plain": [
              "<Figure size 576x360 with 1 Axes>"
            ]
          },
          "metadata": {
            "tags": []
          }
        }
      ]
    },
    {
      "cell_type": "code",
      "metadata": {
        "id": "50A-XNbe9ZO_",
        "colab_type": "code",
        "colab": {
          "base_uri": "https://localhost:8080/",
          "height": 614
        },
        "outputId": "e6439547-63a3-4948-a8c4-70a8a61804a7"
      },
      "source": [
        "corr=df_churn.corr().iloc[:,:] \n",
        "c1 = corr.abs().unstack()\n",
        "c1.sort_values(ascending = False)\n",
        "\n",
        "plt.subplots(figsize=(10,10))\n",
        "sns.heatmap(corr,annot=False,cmap=\"YlGnBu\")"
      ],
      "execution_count": 138,
      "outputs": [
        {
          "output_type": "execute_result",
          "data": {
            "text/plain": [
              "<matplotlib.axes._subplots.AxesSubplot at 0x7fd8ad569a90>"
            ]
          },
          "metadata": {
            "tags": []
          },
          "execution_count": 138
        },
        {
          "output_type": "display_data",
          "data": {
            "image/png": "[encoded data removed]",
            "text/plain": [
              "<Figure size 720x720 with 2 Axes>"
            ]
          },
          "metadata": {
            "tags": []
          }
        }
      ]
    },
    {
      "cell_type": "code",
      "metadata": {
        "id": "cg4Tbn-ITsHb",
        "colab_type": "code",
        "colab": {}
      },
      "source": [
        "X = df_churn[[\"tenure\", \"MonthlyCharges\", \"TotalCharges\"]] # три вещественных признака\n",
        "y = df_churn[\"Churn\"]  # таргет"
      ],
      "execution_count": 0,
      "outputs": []
    },
    {
      "cell_type": "code",
      "metadata": {
        "id": "ZoLoGr1-TxO8",
        "colab_type": "code",
        "colab": {}
      },
      "source": [
        "y_tensor = torch.from_numpy(y.values.reshape(-1, 1)).float()\n",
        "X_tensor = torch.from_numpy(X.values).float()"
      ],
      "execution_count": 0,
      "outputs": []
    },
    {
      "cell_type": "code",
      "metadata": {
        "id": "FdPB4fllWPcv",
        "colab_type": "code",
        "colab": {}
      },
      "source": [
        "from sklearn.model_selection import train_test_split\n",
        "\n",
        "X_train, X_test, y_train, y_test = train_test_split(X_tensor, y_tensor, test_size=0.25, random_state=42, shuffle=False)"
      ],
      "execution_count": 0,
      "outputs": []
    },
    {
      "cell_type": "code",
      "metadata": {
        "id": "Y5lXr_oK5-rK",
        "colab_type": "code",
        "colab": {}
      },
      "source": [
        ""
      ],
      "execution_count": 0,
      "outputs": []
    },
    {
      "cell_type": "markdown",
      "metadata": {
        "id": "UdW6UWEK5-7m",
        "colab_type": "text"
      },
      "source": [
        "## Model Building"
      ]
    },
    {
      "cell_type": "code",
      "metadata": {
        "id": "Qh3Cq_IuT-8z",
        "colab_type": "code",
        "colab": {
          "base_uri": "https://localhost:8080/",
          "height": 33
        },
        "outputId": "8633310d-7c98-4251-c6e2-8a37afebb3a7"
      },
      "source": [
        "# classical models\n",
        "\n",
        "logreg = LogisticRegression(class_weight='balanced')\n",
        "logreg.fit(X_train, y_train)\n",
        "predicted = logreg.predict(X_test)\n",
        "roc_auc_score(y_test, predicted)"
      ],
      "execution_count": 125,
      "outputs": [
        {
          "output_type": "execute_result",
          "data": {
            "text/plain": [
              "0.7316561844863732"
            ]
          },
          "metadata": {
            "tags": []
          },
          "execution_count": 125
        }
      ]
    },
    {
      "cell_type": "code",
      "metadata": {
        "id": "FWCxctTc6FsT",
        "colab_type": "code",
        "colab": {
          "base_uri": "https://localhost:8080/",
          "height": 33
        },
        "outputId": "29a3ee6d-846a-4cc1-c8d7-507500ac6d3c"
      },
      "source": [
        "tree = DecisionTreeClassifier(class_weight='balanced')\n",
        "tree.fit(X_train, y_train) \n",
        "predicted = tree.predict(X_test)\n",
        "roc_auc_score(y_test, predicted)"
      ],
      "execution_count": 115,
      "outputs": [
        {
          "output_type": "execute_result",
          "data": {
            "text/plain": [
              "0.6535687941610373"
            ]
          },
          "metadata": {
            "tags": []
          },
          "execution_count": 115
        }
      ]
    },
    {
      "cell_type": "code",
      "metadata": {
        "id": "74mVW7Wy6F5x",
        "colab_type": "code",
        "colab": {
          "base_uri": "https://localhost:8080/",
          "height": 33
        },
        "outputId": "c8c5447f-c7f8-4bbe-ac14-fe049216f0a5"
      },
      "source": [
        "entropy = DecisionTreeClassifier(criterion='entropy',class_weight='balanced') \n",
        "entropy.fit(X_train, y_train) \n",
        "predicted = entropy.predict(X_test)\n",
        "roc_auc_score(y_test, predicted)"
      ],
      "execution_count": 116,
      "outputs": [
        {
          "output_type": "execute_result",
          "data": {
            "text/plain": [
              "0.6607704402515723"
            ]
          },
          "metadata": {
            "tags": []
          },
          "execution_count": 116
        }
      ]
    },
    {
      "cell_type": "code",
      "metadata": {
        "id": "BbgmSDc_7Vbw",
        "colab_type": "code",
        "colab": {
          "base_uri": "https://localhost:8080/",
          "height": 33
        },
        "outputId": "defe78c5-ee8e-4422-e007-451c410b2901"
      },
      "source": [
        "from sklearn.ensemble import RandomForestClassifier\n",
        "r = RandomForestClassifier(n_estimators=100,n_jobs=-1,oob_score=True,\n",
        "                           class_weight='balanced',max_depth=14,random_state = 20,max_leaf_nodes = 29,min_samples_leaf = 6)\n",
        "r.fit(X_train, y_train) \n",
        "predicted = r.predict(X_test)\n",
        "roc_auc_score(y_test, predicted)"
      ],
      "execution_count": 118,
      "outputs": [
        {
          "output_type": "execute_result",
          "data": {
            "text/plain": [
              "0.7439145119962731"
            ]
          },
          "metadata": {
            "tags": []
          },
          "execution_count": 118
        }
      ]
    },
    {
      "cell_type": "code",
      "metadata": {
        "id": "F95ztohM7l2A",
        "colab_type": "code",
        "colab": {
          "base_uri": "https://localhost:8080/",
          "height": 33
        },
        "outputId": "a1c5b3fb-d985-40c4-d9f7-514a3038bf5b"
      },
      "source": [
        "from xgboost import XGBClassifier\n",
        "xg = XGBClassifier(n_jobs= -1,n_estimators= 500,booster='gblinear',max_delta_step= 2)\n",
        "xg.fit(X_train, y_train) \n",
        "predicted = xg.predict(X_test)\n",
        "roc_auc_score(y_test, predicted)"
      ],
      "execution_count": 119,
      "outputs": [
        {
          "output_type": "execute_result",
          "data": {
            "text/plain": [
              "0.6751349095426663"
            ]
          },
          "metadata": {
            "tags": []
          },
          "execution_count": 119
        }
      ]
    },
    {
      "cell_type": "code",
      "metadata": {
        "id": "Ohfxf100UBDq",
        "colab_type": "code",
        "colab": {
          "base_uri": "https://localhost:8080/",
          "height": 33
        },
        "outputId": "6d1a0fc6-6252-460a-d244-3c1c6d4fc795"
      },
      "source": [
        "# Neural Network\n",
        "class LogisticRegressionTorch(nn.Module):\n",
        "    def __init__(self, input_size, output_size):\n",
        "        super(LogisticRegressionTorch, self).__init__()\n",
        "        self.linear = nn.Linear(input_size, output_size)\n",
        "    def forward(self, X):\n",
        "        predictions = self.linear(X)\n",
        "        return torch.sigmoid(predictions)\n",
        "\n",
        "\n",
        "model = LogisticRegressionTorch(X_train.shape[1], y_train.shape[1])\n",
        "criterion = nn.BCELoss()\n",
        "optimizer = optim.Adam(model.parameters(), lr=0.001)\n",
        "for epoch in range(1000):\n",
        "    #print('эпоха', epoch)\n",
        "    optimizer.zero_grad()\n",
        "    predictions = model(X_train)\n",
        "    loss = criterion(predictions, y_train)\n",
        "    #print('лосс:', float(loss))\n",
        "    #print('качество', roc_auc_score(y_test, model(X_test).detach().numpy()))\n",
        "    # вычисляем градиенты\n",
        "    loss.backward()\n",
        "    # обновляем параметры\n",
        "    optimizer.step()\n",
        "\n",
        "predictions = model(X_test)\n",
        "print('roc_auc', roc_auc_score(y_test, predictions.detach().numpy()))"
      ],
      "execution_count": 140,
      "outputs": [
        {
          "output_type": "stream",
          "text": [
            "roc_auc 0.8138094637264798\n"
          ],
          "name": "stdout"
        }
      ]
    },
    {
      "cell_type": "code",
      "metadata": {
        "id": "oFDhBBmC2qLa",
        "colab_type": "code",
        "colab": {}
      },
      "source": [
        ""
      ],
      "execution_count": 0,
      "outputs": []
    }
  ]
}