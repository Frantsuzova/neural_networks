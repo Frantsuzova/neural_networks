{
  "nbformat": 4,
  "nbformat_minor": 0,
  "metadata": {
    "colab": {
      "name": "neural networks_first_step.ipynb",
      "provenance": []
    },
    "kernelspec": {
      "name": "python3",
      "display_name": "Python 3"
    }
  },
  "cells": [
    {
      "cell_type": "markdown",
      "metadata": {
        "id": "E2KV0Qy2vPWS",
        "colab_type": "text"
      },
      "source": [
        "## Искусственный нейрон"
      ]
    },
    {
      "cell_type": "markdown",
      "metadata": {
        "id": "b3lVFFe0vbjb",
        "colab_type": "text"
      },
      "source": [
        " В задачах классификации активационная функция должна иметь характеристику \"включателя\". Иными словами, выход должен изменять состояние с 0 на 1 или наоборот. Это имитирует \"включение\" биологического нейрона. В качестве активационной функции обычно используют сигмоидальную функцию.\n",
        " ![alt text](https://media.proglib.io/wp-uploads/2017/07/2.1.jpg)"
      ]
    },
    {
      "cell_type": "code",
      "metadata": {
        "id": "8ZbvoPCrvEcq",
        "colab_type": "code",
        "colab": {}
      },
      "source": [
        "import matplotlib.pylab as plt\n",
        "import numpy as np"
      ],
      "execution_count": 0,
      "outputs": []
    },
    {
      "cell_type": "code",
      "metadata": {
        "id": "y0JIlvYZvIoX",
        "colab_type": "code",
        "colab": {
          "base_uri": "https://localhost:8080/",
          "height": 279
        },
        "outputId": "f3749cfa-fc20-432b-99c0-81c14b9fc983"
      },
      "source": [
        "x = np.arange(-8, 8, 0.1)\n",
        "f = 1 / (1 + np.exp(-x))\n",
        "plt.plot(x, f)\n",
        "plt.xlabel('x')\n",
        "plt.ylabel('f(x)')\n",
        "plt.show()"
      ],
      "execution_count": 2,
      "outputs": [
        {
          "output_type": "display_data",
          "data": {
            "image/png": "[encoded data removed]",
            "text/plain": [
              "<Figure size 432x288 with 1 Axes>"
            ]
          },
          "metadata": {
            "tags": [],
            "needs_background": "light"
          }
        }
      ]
    },
    {
      "cell_type": "markdown",
      "metadata": {
        "id": "D-a7g4AXv74J",
        "colab_type": "text"
      },
      "source": [
        "Функция растет с 0 до 1 с каждым увеличением значения х. \n",
        "Сигмоидальная функция является гладкой и непрерывной, поэтому она имеет производную (и это хорошо - пригодится для обучения!)"
      ]
    },
    {
      "cell_type": "markdown",
      "metadata": {
        "id": "no5vjHq_wPlE",
        "colab_type": "text"
      },
      "source": [
        "## Узлы"
      ]
    },
    {
      "cell_type": "markdown",
      "metadata": {
        "id": "wUH-6cYpwSie",
        "colab_type": "text"
      },
      "source": [
        "Каждый узел принимает взвешенный вход, активирует активационную функцию для суммы входов и генерирует выход.\n",
        "![alt text](https://media.proglib.io/wp-uploads/-000//1/Node-diagram.jpg)\n",
        "\n",
        "Узел принимает взвешенные входы, складывает их, а затем вводит их в активационную функцию, которая выдает вероятность.\n",
        "\n",
        "Взвешенный вход в узел имеет вид:\n",
        "![alt text](https://media.proglib.io/wp-uploads/2017/07/2.2.jpg)\n",
        "\n",
        "***wi*** - числовые значения веса, ***b*** является весом элемента смещения, его включение делает узел гибким."
      ]
    },
    {
      "cell_type": "markdown",
      "metadata": {
        "id": "IN2_qQXSxgH7",
        "colab_type": "text"
      },
      "source": [
        "## Смещение"
      ]
    },
    {
      "cell_type": "markdown",
      "metadata": {
        "id": "gVjpEv-l0h1E",
        "colab_type": "text"
      },
      "source": [
        "![alt text](https://media.proglib.io/wp-uploads/-000//1/5960f8379203e_Simple-node.jpg)\n",
        "\n",
        "Ввод для активационной функции в этом узле = **x1w1**. \n",
        "\n",
        "Проведем эксперемент - зададим разные значение веса. Очевидно, что при изменении веса изменяется также уровень наклона графика активационной функции."
      ]
    },
    {
      "cell_type": "code",
      "metadata": {
        "id": "sB-LPc6nvpU_",
        "colab_type": "code",
        "colab": {
          "base_uri": "https://localhost:8080/",
          "height": 279
        },
        "outputId": "1c27b731-0da1-4ad8-c1ef-70ca65845460"
      },
      "source": [
        "w1 = 0.5\n",
        "w2 = 1.0\n",
        "w3 = 2.0\n",
        "\n",
        "l1 = 'w = 0.5'\n",
        "l2 = 'w = 1.0'\n",
        "l3 = 'w = 2.0'\n",
        "\n",
        "for w, l in [(w1, l1), (w2, l2), (w3, l3)]:\n",
        "  f = 1 / (1 + np.exp(-x * w))\n",
        "  plt.plot(x, f, label = l)\n",
        "  plt.xlabel('x')\n",
        "  plt.ylabel('h_w(x)')\n",
        "  plt.legend(loc = 2)\n",
        "plt.show()"
      ],
      "execution_count": 6,
      "outputs": [
        {
          "output_type": "display_data",
          "data": {
            "image/png": "[encoded data removed]",
            "text/plain": [
              "<Figure size 432x288 with 1 Axes>"
            ]
          },
          "metadata": {
            "tags": [],
            "needs_background": "light"
          }
        }
      ]
    },
    {
      "cell_type": "markdown",
      "metadata": {
        "id": "PKpsARv42ZyA",
        "colab_type": "text"
      },
      "source": [
        "Так моделируются различные плотности взаимосвязей между входами и выходами. \n",
        "\n",
        "Но для того, чтобы выход изменялся только при ***х*** более 1 нужно смещение. \n",
        "\n",
        "Рассмотрим такую сеть со смещением на входе:\n",
        "\n",
        "![alt text](https://media.proglib.io/wp-uploads/-000//1/5960f838e77b1_Simple-node-with-bias.png)"
      ]
    },
    {
      "cell_type": "code",
      "metadata": {
        "id": "jDUJ4L0-vNRq",
        "colab_type": "code",
        "colab": {
          "base_uri": "https://localhost:8080/",
          "height": 279
        },
        "outputId": "b47926be-ce1f-4a1c-cbc3-d2f341703270"
      },
      "source": [
        "w = 5.0\n",
        "b1 = -8.0\n",
        "b2 = 0.0\n",
        "b3 = 8.0\n",
        "l1 = 'b = -8.0'\n",
        "l2 = 'b = 0.0'\n",
        "l3 = 'b = 8.0'\n",
        "for b, l in [(b1, l1), (b2, l2), (b3, l3)]:\n",
        "  f = 1 / (1 + np.exp(-(x * w + b)))\n",
        "  plt.plot(x, f, label = l)\n",
        "  plt.xlabel('x')\n",
        "  plt.ylabel('h_wb(x)')\n",
        "  plt.legend(loc = 2)\n",
        "plt.show()"
      ],
      "execution_count": 7,
      "outputs": [
        {
          "output_type": "display_data",
          "data": {
            "image/png": "[encoded data removed]",
            "text/plain": [
              "<Figure size 432x288 with 1 Axes>"
            ]
          },
          "metadata": {
            "tags": [],
            "needs_background": "light"
          }
        }
      ]
    },
    {
      "cell_type": "markdown",
      "metadata": {
        "id": "2ZwdZA0B3A9j",
        "colab_type": "text"
      },
      "source": [
        "Из графика можно увидеть, что меняя \"вес\" смещения b, можно изменять время запуска узла. "
      ]
    },
    {
      "cell_type": "markdown",
      "metadata": {
        "id": "qzpI7J3p3NDh",
        "colab_type": "text"
      },
      "source": [
        "## Составленная структура"
      ]
    },
    {
      "cell_type": "markdown",
      "metadata": {
        "id": "XpePMV9P3VcN",
        "colab_type": "text"
      },
      "source": [
        "Полная нейронная сеть состоит из множества узлов.\n",
        "Самая распространенная структура состоит из входного слоя, скрытого слоя и выходного слоя. Что-то вроде этого:\n",
        "\n",
        "![alt text](https://media.proglib.io/wp-uploads/-000//1/5960f83a3d545_KpeD0WH.png)\n",
        "\n",
        "Тут есть три слоя сети: Слой 1 является входным слоем, где сеть принимает внешние входные данные. Слой 2 называют скрытым слоем, этот слой не является частью ни входа, ни выхода.\n",
        "\n",
        "Каждый узел в Ш1 имеет связь со всеми узлами в Ш2, при этом от каждого узла в Ш2 идет по одной связи к единому выходному узлу в Ш3. Каждая из этих связей должна иметь соответствующий вес."
      ]
    },
    {
      "cell_type": "markdown",
      "metadata": {
        "id": "6t7Z6zQh4nkA",
        "colab_type": "text"
      },
      "source": [
        "## Процесс прямого распространения"
      ]
    },
    {
      "cell_type": "markdown",
      "metadata": {
        "id": "dRWcLByG4xQQ",
        "colab_type": "text"
      },
      "source": [
        "Нахождение выхода из нейронной сети (Слой 3 из примера) можно записать следующим образом:\n",
        "![alt text](https://media.proglib.io/wp-uploads/2017/07/3.jpg)\n",
        "\n",
        " ***f(∙)*** - активационная функция узла, в нашем случае сигмоидальная функция.\n",
        " **h1(2)** - выход первого узла во втором слое, его входами соответственно являются w11(1)x1(1), w12(1)x2(1),w13(1)x3(1) и b1(1). Эти входы было сложены, а затем переданы в активационную функцию для расчета выхода первого узла. С двумя следующими узлами аналогично.\n",
        "\n",
        "Последняя строка рассчитывает выход единого узла в последнем третьем слое, он является конечной исходной точкой в нейронной сети. В нем вместо взвешенных входных переменных (x1,x2,x3) берутся взвешенные выходы узлов с другой слоя (h1(2),h2(2),h3(2)) и смещения. "
      ]
    },
    {
      "cell_type": "markdown",
      "metadata": {
        "id": "mfq9voEG6DRQ",
        "colab_type": "text"
      },
      "source": [
        "## Пример прямого распространения"
      ]
    },
    {
      "cell_type": "markdown",
      "metadata": {
        "id": "v66PsFO96U-u",
        "colab_type": "text"
      },
      "source": [
        "пример первого вывода нейронной сети\n",
        "\n",
        "![alt text](https://media.proglib.io/wp-uploads/2017/07/3.1.jpg)"
      ]
    },
    {
      "cell_type": "code",
      "metadata": {
        "id": "TaY5d7e226j7",
        "colab_type": "code",
        "colab": {}
      },
      "source": [
        "w1 = np.array([\n",
        "  [0.2, 0.2, 0.2],\n",
        "  [0.4, 0.4, 0.4],\n",
        "  [0.6, 0.6, 0.6]\n",
        "])\n",
        "# некоторые рандомные числовые значения весу каждой связи с Ш1"
      ],
      "execution_count": 0,
      "outputs": []
    },
    {
      "cell_type": "markdown",
      "metadata": {
        "id": "6VaY7jmx7Qk9",
        "colab_type": "text"
      },
      "source": [
        "![alt text](https://media.proglib.io/wp-uploads/2017/07/3.1.1.jpg)"
      ]
    },
    {
      "cell_type": "code",
      "metadata": {
        "id": "CAg1j3Aq6zMC",
        "colab_type": "code",
        "colab": {}
      },
      "source": [
        "w2 = np.zeros((1, 3))\n",
        "w2[0, : ] = np.array([0.5, 0.5, 0.5])\n",
        "# аналогично Ш1"
      ],
      "execution_count": 0,
      "outputs": []
    },
    {
      "cell_type": "code",
      "metadata": {
        "id": "fSggA1Zo7HEu",
        "colab_type": "code",
        "colab": {}
      },
      "source": [
        "b1 = np.array([0.8, 0.8, 0.8])\n",
        "b2 = np.array([0.2])\n",
        "# некоторые значения весу смещения в Ш1 и Ш2"
      ],
      "execution_count": 0,
      "outputs": []
    },
    {
      "cell_type": "code",
      "metadata": {
        "id": "uHxhYmrm7Z_i",
        "colab_type": "code",
        "colab": {}
      },
      "source": [
        "# функция активации\n",
        "def f(x):\n",
        "\t  return 1 / (1 + np.exp(-x))"
      ],
      "execution_count": 0,
      "outputs": []
    },
    {
      "cell_type": "code",
      "metadata": {
        "id": "o_hrnxla8syC",
        "colab_type": "code",
        "colab": {}
      },
      "source": [
        "# функция принимает в качестве входа номер слоя в нейронной сети, х - входной массив / вектор:"
      ],
      "execution_count": 0,
      "outputs": []
    },
    {
      "cell_type": "code",
      "metadata": {
        "id": "eCR2ExXv7gRE",
        "colab_type": "code",
        "colab": {}
      },
      "source": [
        "def simple_looped_nn_calc(n_layers, x, w, b):\n",
        "  for l in range(n_layers - 1): # Формируется входной массив - перемножения весов в каждом слое\n",
        "                                # Если первый слой, то входной массив равен вектору х\n",
        "                                # Если слой не первый, вход для текущего слоя равен# выходу предыдущего\n",
        "      if l == 0:\n",
        "        node_in = x\n",
        "      else: \n",
        "        node_in = h # формирует выходной массив для узлов в слое l + 1\n",
        "      h = np.zeros((w[l].shape[0], ))# проходит по строкам массива весов\n",
        "      for i in range(w[l].shape[0]): # считает сумму внутри активационной функции\n",
        "          f_sum = 0 # проходит по столбцам массива весов\n",
        "          for j in range(w[l].shape[1]):\n",
        "              f_sum += w[l][i][j] * node_in[j] # добавляет смещение\n",
        "              f_sum += b[l][i]\n",
        "\n",
        "# использует активационную функцию для расчета\n",
        "# i - того выхода, в данном случае h1, h2, h3\n",
        "      h[i] = f(f_sum)\n",
        "  return h"
      ],
      "execution_count": 0,
      "outputs": []
    },
    {
      "cell_type": "code",
      "metadata": {
        "id": "pQgyzCVQ7kpF",
        "colab_type": "code",
        "colab": {}
      },
      "source": [
        "w = [w1, w2]\n",
        "b = [b1, b2] # Рандомный входной вектор x\n",
        "x = [1.6, 3.0, 6.0]"
      ],
      "execution_count": 0,
      "outputs": []
    },
    {
      "cell_type": "code",
      "metadata": {
        "id": "CBRsLX4k8x6r",
        "colab_type": "code",
        "colab": {
          "base_uri": "https://localhost:8080/",
          "height": 33
        },
        "outputId": "5017f83a-b803-4bf0-84d0-21a074e5460a"
      },
      "source": [
        "simple_looped_nn_calc(3, x, w, b)\n",
        "# Функция сначала проверяет, чем является входной массив для соответствующего слоя с узлами / весами. \n",
        "# Если рассматривается первый слой, то входом для второго слоя является входной массив xx, \n",
        "# Умноженный на соответствующие веса. Если слой не первый, то входом для последующего будет выход предыдущего."
      ],
      "execution_count": 30,
      "outputs": [
        {
          "output_type": "execute_result",
          "data": {
            "text/plain": [
              "array([0.75024541])"
            ]
          },
          "metadata": {
            "tags": []
          },
          "execution_count": 30
        }
      ]
    },
    {
      "cell_type": "code",
      "metadata": {
        "id": "aruhB07w80K_",
        "colab_type": "code",
        "colab": {}
      },
      "source": [
        ""
      ],
      "execution_count": 0,
      "outputs": []
    }
  ]
}